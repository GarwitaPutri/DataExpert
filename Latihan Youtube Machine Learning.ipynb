{
 "cells": [
  {
   "cell_type": "markdown",
   "metadata": {
    "id": "0maWfXj06ImK"
   },
   "source": [
    "## Latihan Machine Learning : YouTube Video Category Classification"
   ]
  },
  {
   "cell_type": "code",
   "execution_count": 7,
   "metadata": {
    "colab": {
     "base_uri": "https://localhost:8080/"
    },
    "id": "JHSdKkfX6G4T",
    "outputId": "3c86b588-10f9-4854-f196-f0d7b2cd5753"
   },
   "outputs": [
    {
     "name": "stdout",
     "output_type": "stream",
     "text": [
      "^C\n",
      "Note: you may need to restart the kernel to use updated packages.\n"
     ]
    }
   ],
   "source": [
    "pip uninstall emoji"
   ]
  },
  {
   "cell_type": "code",
   "execution_count": null,
   "metadata": {},
   "outputs": [],
   "source": [
    "pip install emoji==1.7.0"
   ]
  },
  {
   "cell_type": "code",
   "execution_count": null,
   "metadata": {},
   "outputs": [],
   "source": []
  },
  {
   "cell_type": "code",
   "execution_count": 2,
   "metadata": {},
   "outputs": [
    {
     "name": "stdout",
     "output_type": "stream",
     "text": [
      "Requirement already satisfied: langdetect in c:\\users\\user\\anaconda3\\anaconda\\lib\\site-packages (1.0.9)\n",
      "Requirement already satisfied: six in c:\\users\\user\\anaconda3\\anaconda\\lib\\site-packages (from langdetect) (1.15.0)\n",
      "Note: you may need to restart the kernel to use updated packages.\n"
     ]
    }
   ],
   "source": [
    "pip install langdetect"
   ]
  },
  {
   "cell_type": "code",
   "execution_count": 3,
   "metadata": {},
   "outputs": [
    {
     "name": "stdout",
     "output_type": "stream",
     "text": [
      "Requirement already satisfied: sklearn in c:\\users\\user\\anaconda3\\anaconda\\lib\\site-packages (0.0.post1)\n",
      "Note: you may need to restart the kernel to use updated packages.\n"
     ]
    }
   ],
   "source": [
    "pip install sklearn"
   ]
  },
  {
   "cell_type": "code",
   "execution_count": 4,
   "metadata": {},
   "outputs": [
    {
     "name": "stdout",
     "output_type": "stream",
     "text": [
      "Requirement already satisfied: joblib in c:\\users\\user\\anaconda3\\anaconda\\lib\\site-packages (1.0.1)\n",
      "Note: you may need to restart the kernel to use updated packages.\n"
     ]
    }
   ],
   "source": [
    "pip install joblib "
   ]
  },
  {
   "cell_type": "code",
   "execution_count": 5,
   "metadata": {},
   "outputs": [
    {
     "name": "stdout",
     "output_type": "stream",
     "text": [
      "Requirement already satisfied: pytest-warnings in c:\\users\\user\\anaconda3\\anaconda\\lib\\site-packages (0.3.1)\n",
      "Requirement already satisfied: pytest in c:\\users\\user\\anaconda3\\anaconda\\lib\\site-packages (from pytest-warnings) (6.2.3)\n",
      "Requirement already satisfied: attrs>=19.2.0 in c:\\users\\user\\anaconda3\\anaconda\\lib\\site-packages (from pytest->pytest-warnings) (20.3.0)\n",
      "Requirement already satisfied: iniconfig in c:\\users\\user\\anaconda3\\anaconda\\lib\\site-packages (from pytest->pytest-warnings) (1.1.1)\n",
      "Requirement already satisfied: packaging in c:\\users\\user\\anaconda3\\anaconda\\lib\\site-packages (from pytest->pytest-warnings) (20.9)\n",
      "Requirement already satisfied: pluggy<1.0.0a1,>=0.12 in c:\\users\\user\\anaconda3\\anaconda\\lib\\site-packages (from pytest->pytest-warnings) (0.13.1)\n",
      "Requirement already satisfied: py>=1.8.2 in c:\\users\\user\\anaconda3\\anaconda\\lib\\site-packages (from pytest->pytest-warnings) (1.10.0)\n",
      "Requirement already satisfied: toml in c:\\users\\user\\anaconda3\\anaconda\\lib\\site-packages (from pytest->pytest-warnings) (0.10.2)\n",
      "Requirement already satisfied: atomicwrites>=1.0 in c:\\users\\user\\anaconda3\\anaconda\\lib\\site-packages (from pytest->pytest-warnings) (1.4.0)\n",
      "Requirement already satisfied: colorama in c:\\users\\user\\anaconda3\\anaconda\\lib\\site-packages (from pytest->pytest-warnings) (0.4.4)\n",
      "Requirement already satisfied: pyparsing>=2.0.2 in c:\\users\\user\\anaconda3\\anaconda\\lib\\site-packages (from packaging->pytest->pytest-warnings) (2.4.7)\n",
      "Note: you may need to restart the kernel to use updated packages.\n"
     ]
    }
   ],
   "source": [
    "pip install pytest-warnings"
   ]
  },
  {
   "cell_type": "code",
   "execution_count": 6,
   "metadata": {},
   "outputs": [
    {
     "name": "stdout",
     "output_type": "stream",
     "text": [
      "Requirement already satisfied: wrap in c:\\users\\user\\anaconda3\\anaconda\\lib\\site-packages (2018.3.1)\n",
      "Requirement already satisfied: logcc in c:\\users\\user\\anaconda3\\anaconda\\lib\\site-packages (from wrap) (2018.3.1)\n",
      "Requirement already satisfied: loader in c:\\users\\user\\anaconda3\\anaconda\\lib\\site-packages (from logcc->wrap) (2017.9.11)\n",
      "Requirement already satisfied: aiohttp in c:\\users\\user\\anaconda3\\anaconda\\lib\\site-packages (from logcc->wrap) (3.8.3)\n",
      "Requirement already satisfied: termcc in c:\\users\\user\\anaconda3\\anaconda\\lib\\site-packages (from logcc->wrap) (2019.8.2)\n",
      "Requirement already satisfied: terminaltables in c:\\users\\user\\anaconda3\\anaconda\\lib\\site-packages (from logcc->wrap) (3.1.10)\n",
      "Requirement already satisfied: websockets in c:\\users\\user\\anaconda3\\anaconda\\lib\\site-packages (from logcc->wrap) (10.4)\n",
      "Requirement already satisfied: pony in c:\\users\\user\\anaconda3\\anaconda\\lib\\site-packages (from logcc->wrap) (0.7.16)\n",
      "Requirement already satisfied: aiofiles in c:\\users\\user\\anaconda3\\anaconda\\lib\\site-packages (from logcc->wrap) (22.1.0)\n",
      "Requirement already satisfied: charset-normalizer<3.0,>=2.0 in c:\\users\\user\\anaconda3\\anaconda\\lib\\site-packages (from aiohttp->logcc->wrap) (2.1.1)\n",
      "Requirement already satisfied: frozenlist>=1.1.1 in c:\\users\\user\\anaconda3\\anaconda\\lib\\site-packages (from aiohttp->logcc->wrap) (1.3.3)\n",
      "Requirement already satisfied: yarl<2.0,>=1.0 in c:\\users\\user\\anaconda3\\anaconda\\lib\\site-packages (from aiohttp->logcc->wrap) (1.8.1)\n",
      "Requirement already satisfied: aiosignal>=1.1.2 in c:\\users\\user\\anaconda3\\anaconda\\lib\\site-packages (from aiohttp->logcc->wrap) (1.3.1)\n",
      "Requirement already satisfied: multidict<7.0,>=4.5 in c:\\users\\user\\anaconda3\\anaconda\\lib\\site-packages (from aiohttp->logcc->wrap) (6.0.2)\n",
      "Requirement already satisfied: attrs>=17.3.0 in c:\\users\\user\\anaconda3\\anaconda\\lib\\site-packages (from aiohttp->logcc->wrap) (20.3.0)\n",
      "Requirement already satisfied: async-timeout<5.0,>=4.0.0a3 in c:\\users\\user\\anaconda3\\anaconda\\lib\\site-packages (from aiohttp->logcc->wrap) (4.0.2)\n",
      "Requirement already satisfied: idna>=2.0 in c:\\users\\user\\anaconda3\\anaconda\\lib\\site-packages (from yarl<2.0,>=1.0->aiohttp->logcc->wrap) (2.10)\n",
      "Requirement already satisfied: bs4 in c:\\users\\user\\anaconda3\\anaconda\\lib\\site-packages (from loader->logcc->wrap) (0.0.1)\n",
      "Requirement already satisfied: beautifulsoup4 in c:\\users\\user\\anaconda3\\anaconda\\lib\\site-packages (from bs4->loader->logcc->wrap) (4.9.3)\n",
      "Requirement already satisfied: soupsieve>1.2 in c:\\users\\user\\anaconda3\\anaconda\\lib\\site-packages (from beautifulsoup4->bs4->loader->logcc->wrap) (2.2.1)\n",
      "Requirement already satisfied: pendulum in c:\\users\\user\\anaconda3\\anaconda\\lib\\site-packages (from termcc->logcc->wrap) (2.1.2)\n",
      "Requirement already satisfied: logbook in c:\\users\\user\\anaconda3\\anaconda\\lib\\site-packages (from termcc->logcc->wrap) (1.5.3)\n",
      "Requirement already satisfied: pytzdata>=2020.1 in c:\\users\\user\\anaconda3\\anaconda\\lib\\site-packages (from pendulum->termcc->logcc->wrap) (2020.1)\n",
      "Requirement already satisfied: python-dateutil<3.0,>=2.6 in c:\\users\\user\\anaconda3\\anaconda\\lib\\site-packages (from pendulum->termcc->logcc->wrap) (2.8.1)\n",
      "Requirement already satisfied: six>=1.5 in c:\\users\\user\\anaconda3\\anaconda\\lib\\site-packages (from python-dateutil<3.0,>=2.6->pendulum->termcc->logcc->wrap) (1.15.0)\n",
      "Note: you may need to restart the kernel to use updated packages.\n"
     ]
    }
   ],
   "source": [
    "pip install wrap"
   ]
  },
  {
   "cell_type": "code",
   "execution_count": 7,
   "metadata": {
    "id": "1noEZGlc6ZJn"
   },
   "outputs": [],
   "source": [
    "from textwrap import wrap\n",
    "\n",
    "import emoji\n",
    "import joblib\n",
    "import langdetect\n",
    "import matplotlib.pyplot as plt\n",
    "import numpy as np\n",
    "import pandas as pd\n",
    "import seaborn as sns\n",
    "import warnings\n",
    "from sklearn.ensemble import RandomForestClassifier\n",
    "from sklearn.feature_extraction.text import TfidfVectorizer\n",
    "from sklearn.linear_model import LogisticRegression\n",
    "from sklearn.metrics import classification_report, confusion_matrix, ConfusionMatrixDisplay\n",
    "from sklearn.model_selection import train_test_split, GridSearchCV\n",
    "from sklearn.naive_bayes import MultinomialNB\n",
    "from sklearn.pipeline import Pipeline\n",
    "from sklearn.svm import LinearSVC\n",
    "from sklearn.tree import DecisionTreeClassifier\n",
    "\n",
    "plt.style.use(\"fivethirtyeight\")\n",
    "warnings.filterwarnings(\"ignore\")"
   ]
  },
  {
   "cell_type": "code",
   "execution_count": 8,
   "metadata": {
    "id": "XqA0RxSZ6hIc"
   },
   "outputs": [],
   "source": [
    "def get_category_dict(category_file):\n",
    "  category = pd.read_json(category_file, orient=\"records\")\n",
    "  category = pd.DataFrame(category[\"items\"].values.tolist())\n",
    "\n",
    "  return {\n",
    "      cat.id: cat.snippet.get(\"title\")\n",
    "      for cat in category.itertuples(index=False)\n",
    "  }"
   ]
  },
  {
   "cell_type": "code",
   "execution_count": 9,
   "metadata": {
    "id": "UKF6GI5h-u-L"
   },
   "outputs": [],
   "source": [
    "category_dict = get_category_dict(\"C:/Users/USER/Downloads/category.json\")"
   ]
  },
  {
   "cell_type": "code",
   "execution_count": 10,
   "metadata": {},
   "outputs": [
    {
     "data": {
      "text/html": [
       "<div>\n",
       "<style scoped>\n",
       "    .dataframe tbody tr th:only-of-type {\n",
       "        vertical-align: middle;\n",
       "    }\n",
       "\n",
       "    .dataframe tbody tr th {\n",
       "        vertical-align: top;\n",
       "    }\n",
       "\n",
       "    .dataframe thead th {\n",
       "        text-align: right;\n",
       "    }\n",
       "</style>\n",
       "<table border=\"1\" class=\"dataframe\">\n",
       "  <thead>\n",
       "    <tr style=\"text-align: right;\">\n",
       "      <th></th>\n",
       "      <th>video_id</th>\n",
       "      <th>publish_time</th>\n",
       "      <th>channel_id</th>\n",
       "      <th>title</th>\n",
       "      <th>description</th>\n",
       "      <th>thumbnail_url</th>\n",
       "      <th>thumbnail_width</th>\n",
       "      <th>thumbnail_height</th>\n",
       "      <th>channel_name</th>\n",
       "      <th>tags</th>\n",
       "      <th>category_id</th>\n",
       "      <th>live_status</th>\n",
       "      <th>local_title</th>\n",
       "      <th>local_description</th>\n",
       "      <th>duration</th>\n",
       "      <th>dimension</th>\n",
       "      <th>definition</th>\n",
       "      <th>caption</th>\n",
       "      <th>license_status</th>\n",
       "      <th>allowed_region</th>\n",
       "      <th>blocked_region</th>\n",
       "      <th>view</th>\n",
       "      <th>like</th>\n",
       "      <th>dislike</th>\n",
       "      <th>favorite</th>\n",
       "      <th>comment</th>\n",
       "      <th>trending_time</th>\n",
       "    </tr>\n",
       "  </thead>\n",
       "  <tbody>\n",
       "    <tr>\n",
       "      <th>0</th>\n",
       "      <td>NaN</td>\n",
       "      <td>2021-02-05 09:00:34+00:00</td>\n",
       "      <td>UCEf_Bc-KVd7onSeifS3py9g</td>\n",
       "      <td>aespa 에스파 'Forever (약속)' MV</td>\n",
       "      <td>aespa's new single \"Forever\" is out!\\nListen a...</td>\n",
       "      <td>NaN</td>\n",
       "      <td>NaN</td>\n",
       "      <td>NaN</td>\n",
       "      <td>SMTOWN</td>\n",
       "      <td>NaN</td>\n",
       "      <td>10</td>\n",
       "      <td>none</td>\n",
       "      <td>aespa 에스파 'Forever (약속)' MV</td>\n",
       "      <td>aespa's new single \"Forever\" is out!\\nListen a...</td>\n",
       "      <td>PT5M7S</td>\n",
       "      <td>2d</td>\n",
       "      <td>hd</td>\n",
       "      <td>True</td>\n",
       "      <td>True</td>\n",
       "      <td>NaN</td>\n",
       "      <td>NaN</td>\n",
       "      <td>7806846.0</td>\n",
       "      <td>857902.0</td>\n",
       "      <td>24078.0</td>\n",
       "      <td>0</td>\n",
       "      <td>94961.0</td>\n",
       "      <td>2021-02-07 05:46:51.832614+00:00</td>\n",
       "    </tr>\n",
       "    <tr>\n",
       "      <th>1</th>\n",
       "      <td>NaN</td>\n",
       "      <td>2021-02-04 15:54:08+00:00</td>\n",
       "      <td>UCYEa4_MC7OFjcWrO6SO-u8g</td>\n",
       "      <td>[FULL] Siapa di Balik Kudeta AHY? | Dua Sisi t...</td>\n",
       "      <td>Jakarta, https://www.tvonenews.com - Ketua umu...</td>\n",
       "      <td>NaN</td>\n",
       "      <td>NaN</td>\n",
       "      <td>NaN</td>\n",
       "      <td>Indonesia Lawyers Club</td>\n",
       "      <td>['tvone', 'tv one', 'tvonenews', 'indonesia la...</td>\n",
       "      <td>25</td>\n",
       "      <td>none</td>\n",
       "      <td>[FULL] Siapa di Balik Kudeta AHY? | Dua Sisi t...</td>\n",
       "      <td>Jakarta, https://www.tvonenews.com - Ketua umu...</td>\n",
       "      <td>PT42M30S</td>\n",
       "      <td>2d</td>\n",
       "      <td>hd</td>\n",
       "      <td>False</td>\n",
       "      <td>True</td>\n",
       "      <td>NaN</td>\n",
       "      <td>NaN</td>\n",
       "      <td>885038.0</td>\n",
       "      <td>6765.0</td>\n",
       "      <td>1263.0</td>\n",
       "      <td>0</td>\n",
       "      <td>6365.0</td>\n",
       "      <td>2021-02-07 05:46:51.832649+00:00</td>\n",
       "    </tr>\n",
       "    <tr>\n",
       "      <th>2</th>\n",
       "      <td>NaN</td>\n",
       "      <td>2021-02-06 03:00:22+00:00</td>\n",
       "      <td>UCu12RxQjRQyh79YBYvEDkOg</td>\n",
       "      <td>CABRIOLET CHALLENGE: TANTANGAN MENGGODA (7/12)</td>\n",
       "      <td>Road Party Season 2: Cabriolet Challenge\\n\\nEp...</td>\n",
       "      <td>NaN</td>\n",
       "      <td>NaN</td>\n",
       "      <td>NaN</td>\n",
       "      <td>Motomobi</td>\n",
       "      <td>['MotoMobi', 'Mobil', 'motor', 'review', 'indo...</td>\n",
       "      <td>2</td>\n",
       "      <td>none</td>\n",
       "      <td>CABRIOLET CHALLENGE: TANTANGAN MENGGODA (7/12)</td>\n",
       "      <td>Road Party Season 2: Cabriolet Challenge\\n\\nEp...</td>\n",
       "      <td>PT46M43S</td>\n",
       "      <td>2d</td>\n",
       "      <td>hd</td>\n",
       "      <td>False</td>\n",
       "      <td>True</td>\n",
       "      <td>NaN</td>\n",
       "      <td>NaN</td>\n",
       "      <td>889708.0</td>\n",
       "      <td>47895.0</td>\n",
       "      <td>532.0</td>\n",
       "      <td>0</td>\n",
       "      <td>8785.0</td>\n",
       "      <td>2021-02-07 05:46:51.832664+00:00</td>\n",
       "    </tr>\n",
       "    <tr>\n",
       "      <th>3</th>\n",
       "      <td>NaN</td>\n",
       "      <td>2021-02-05 20:26:08+00:00</td>\n",
       "      <td>UCCuzDCoI3EUOo_nhCj4noSw</td>\n",
       "      <td>With Windah Basudara &amp; Hans</td>\n",
       "      <td>Join this channel to get access to perks:\\nhtt...</td>\n",
       "      <td>NaN</td>\n",
       "      <td>NaN</td>\n",
       "      <td>NaN</td>\n",
       "      <td>yb</td>\n",
       "      <td>NaN</td>\n",
       "      <td>20</td>\n",
       "      <td>none</td>\n",
       "      <td>With Windah Basudara &amp; Hans</td>\n",
       "      <td>Join this channel to get access to perks:\\nhtt...</td>\n",
       "      <td>PT45M59S</td>\n",
       "      <td>2d</td>\n",
       "      <td>hd</td>\n",
       "      <td>False</td>\n",
       "      <td>True</td>\n",
       "      <td>NaN</td>\n",
       "      <td>NaN</td>\n",
       "      <td>1006854.0</td>\n",
       "      <td>91973.0</td>\n",
       "      <td>3967.0</td>\n",
       "      <td>0</td>\n",
       "      <td>12957.0</td>\n",
       "      <td>2021-02-07 05:46:51.832678+00:00</td>\n",
       "    </tr>\n",
       "    <tr>\n",
       "      <th>4</th>\n",
       "      <td>NaN</td>\n",
       "      <td>2021-02-03 23:14:54+00:00</td>\n",
       "      <td>UC14UlmYlSNiQCBe9Eookf_A</td>\n",
       "      <td>🤯 LATE COMEBACK DRAMA! | HIGHLIGHTS | Granada ...</td>\n",
       "      <td>With just two minutes to play, Barça looked to...</td>\n",
       "      <td>NaN</td>\n",
       "      <td>NaN</td>\n",
       "      <td>NaN</td>\n",
       "      <td>FC Barcelona</td>\n",
       "      <td>['FC Barcelona', 'برشلونة،', 'Fútbol', 'FUTBOL...</td>\n",
       "      <td>17</td>\n",
       "      <td>none</td>\n",
       "      <td>🤯 LATE COMEBACK DRAMA! | HIGHLIGHTS | Granada ...</td>\n",
       "      <td>With just two minutes to play, Barça looked to...</td>\n",
       "      <td>PT5M12S</td>\n",
       "      <td>2d</td>\n",
       "      <td>hd</td>\n",
       "      <td>False</td>\n",
       "      <td>True</td>\n",
       "      <td>NaN</td>\n",
       "      <td>NaN</td>\n",
       "      <td>6275035.0</td>\n",
       "      <td>218131.0</td>\n",
       "      <td>4289.0</td>\n",
       "      <td>0</td>\n",
       "      <td>12799.0</td>\n",
       "      <td>2021-02-07 05:46:51.832730+00:00</td>\n",
       "    </tr>\n",
       "  </tbody>\n",
       "</table>\n",
       "</div>"
      ],
      "text/plain": [
       "  video_id              publish_time                channel_id  \\\n",
       "0      NaN 2021-02-05 09:00:34+00:00  UCEf_Bc-KVd7onSeifS3py9g   \n",
       "1      NaN 2021-02-04 15:54:08+00:00  UCYEa4_MC7OFjcWrO6SO-u8g   \n",
       "2      NaN 2021-02-06 03:00:22+00:00  UCu12RxQjRQyh79YBYvEDkOg   \n",
       "3      NaN 2021-02-05 20:26:08+00:00  UCCuzDCoI3EUOo_nhCj4noSw   \n",
       "4      NaN 2021-02-03 23:14:54+00:00  UC14UlmYlSNiQCBe9Eookf_A   \n",
       "\n",
       "                                               title  \\\n",
       "0                        aespa 에스파 'Forever (약속)' MV   \n",
       "1  [FULL] Siapa di Balik Kudeta AHY? | Dua Sisi t...   \n",
       "2     CABRIOLET CHALLENGE: TANTANGAN MENGGODA (7/12)   \n",
       "3                        With Windah Basudara & Hans   \n",
       "4  🤯 LATE COMEBACK DRAMA! | HIGHLIGHTS | Granada ...   \n",
       "\n",
       "                                         description thumbnail_url  \\\n",
       "0  aespa's new single \"Forever\" is out!\\nListen a...           NaN   \n",
       "1  Jakarta, https://www.tvonenews.com - Ketua umu...           NaN   \n",
       "2  Road Party Season 2: Cabriolet Challenge\\n\\nEp...           NaN   \n",
       "3  Join this channel to get access to perks:\\nhtt...           NaN   \n",
       "4  With just two minutes to play, Barça looked to...           NaN   \n",
       "\n",
       "   thumbnail_width  thumbnail_height            channel_name  \\\n",
       "0              NaN               NaN                  SMTOWN   \n",
       "1              NaN               NaN  Indonesia Lawyers Club   \n",
       "2              NaN               NaN                Motomobi   \n",
       "3              NaN               NaN                      yb   \n",
       "4              NaN               NaN            FC Barcelona   \n",
       "\n",
       "                                                tags  category_id live_status  \\\n",
       "0                                                NaN           10        none   \n",
       "1  ['tvone', 'tv one', 'tvonenews', 'indonesia la...           25        none   \n",
       "2  ['MotoMobi', 'Mobil', 'motor', 'review', 'indo...            2        none   \n",
       "3                                                NaN           20        none   \n",
       "4  ['FC Barcelona', 'برشلونة،', 'Fútbol', 'FUTBOL...           17        none   \n",
       "\n",
       "                                         local_title  \\\n",
       "0                        aespa 에스파 'Forever (약속)' MV   \n",
       "1  [FULL] Siapa di Balik Kudeta AHY? | Dua Sisi t...   \n",
       "2     CABRIOLET CHALLENGE: TANTANGAN MENGGODA (7/12)   \n",
       "3                        With Windah Basudara & Hans   \n",
       "4  🤯 LATE COMEBACK DRAMA! | HIGHLIGHTS | Granada ...   \n",
       "\n",
       "                                   local_description  duration dimension  \\\n",
       "0  aespa's new single \"Forever\" is out!\\nListen a...    PT5M7S        2d   \n",
       "1  Jakarta, https://www.tvonenews.com - Ketua umu...  PT42M30S        2d   \n",
       "2  Road Party Season 2: Cabriolet Challenge\\n\\nEp...  PT46M43S        2d   \n",
       "3  Join this channel to get access to perks:\\nhtt...  PT45M59S        2d   \n",
       "4  With just two minutes to play, Barça looked to...   PT5M12S        2d   \n",
       "\n",
       "  definition  caption  license_status allowed_region blocked_region  \\\n",
       "0         hd     True            True            NaN            NaN   \n",
       "1         hd    False            True            NaN            NaN   \n",
       "2         hd    False            True            NaN            NaN   \n",
       "3         hd    False            True            NaN            NaN   \n",
       "4         hd    False            True            NaN            NaN   \n",
       "\n",
       "        view      like  dislike  favorite  comment  \\\n",
       "0  7806846.0  857902.0  24078.0         0  94961.0   \n",
       "1   885038.0    6765.0   1263.0         0   6365.0   \n",
       "2   889708.0   47895.0    532.0         0   8785.0   \n",
       "3  1006854.0   91973.0   3967.0         0  12957.0   \n",
       "4  6275035.0  218131.0   4289.0         0  12799.0   \n",
       "\n",
       "                     trending_time  \n",
       "0 2021-02-07 05:46:51.832614+00:00  \n",
       "1 2021-02-07 05:46:51.832649+00:00  \n",
       "2 2021-02-07 05:46:51.832664+00:00  \n",
       "3 2021-02-07 05:46:51.832678+00:00  \n",
       "4 2021-02-07 05:46:51.832730+00:00  "
      ]
     },
     "metadata": {},
     "output_type": "display_data"
    }
   ],
   "source": [
    "trending = pd.read_csv(\"C:/Users/USER/Downloads/trending.csv\", parse_dates=[\"publish_time\", \"trending_time\"])\n",
    "\n",
    "with pd.option_context(\"display.max_columns\", None):\n",
    "    display(trending.head())"
   ]
  },
  {
   "cell_type": "code",
   "execution_count": 11,
   "metadata": {},
   "outputs": [
    {
     "name": "stdout",
     "output_type": "stream",
     "text": [
      "start_date = Timestamp('2021-07-01 06:01:25.524449+0000', tz='UTC')\n",
      "end_date = Timestamp('2022-11-19 06:02:12.845027+0000', tz='UTC')\n"
     ]
    }
   ],
   "source": [
    "# delete data dari bulan feb-juni\n",
    "\n",
    "filtered_trending = trending[trending.trending_time.dt.month >= 7]\n",
    "\n",
    "start_date = filtered_trending.trending_time.min()\n",
    "end_date = filtered_trending.trending_time.max()\n",
    "\n",
    "print(f\"{start_date = }\")\n",
    "print(f\"{end_date = }\")"
   ]
  },
  {
   "cell_type": "code",
   "execution_count": 12,
   "metadata": {
    "colab": {
     "base_uri": "https://localhost:8080/"
    },
    "id": "LrT8n02uc5QS",
    "outputId": "a7253709-c97a-41e5-d7bb-dfb7d4533e0b"
   },
   "outputs": [
    {
     "name": "stdout",
     "output_type": "stream",
     "text": [
      "<class 'pandas.core.frame.DataFrame'>\n",
      "RangeIndex: 118751 entries, 0 to 118750\n",
      "Data columns (total 27 columns):\n",
      " #   Column             Non-Null Count   Dtype              \n",
      "---  ------             --------------   -----              \n",
      " 0   video_id           65629 non-null   object             \n",
      " 1   publish_time       118751 non-null  datetime64[ns, UTC]\n",
      " 2   channel_id         118751 non-null  object             \n",
      " 3   title              118751 non-null  object             \n",
      " 4   description        114383 non-null  object             \n",
      " 5   thumbnail_url      65629 non-null   object             \n",
      " 6   thumbnail_width    65629 non-null   float64            \n",
      " 7   thumbnail_height   65629 non-null   float64            \n",
      " 8   channel_name       118751 non-null  object             \n",
      " 9   tags               102685 non-null  object             \n",
      " 10  category_id        118751 non-null  int64              \n",
      " 11  live_status        118751 non-null  object             \n",
      " 12  local_title        118751 non-null  object             \n",
      " 13  local_description  114383 non-null  object             \n",
      " 14  duration           118751 non-null  object             \n",
      " 15  dimension          118751 non-null  object             \n",
      " 16  definition         118751 non-null  object             \n",
      " 17  caption            118751 non-null  bool               \n",
      " 18  license_status     118751 non-null  bool               \n",
      " 19  allowed_region     3682 non-null    object             \n",
      " 20  blocked_region     4515 non-null    object             \n",
      " 21  view               118741 non-null  float64            \n",
      " 22  like               117759 non-null  float64            \n",
      " 23  dislike            53630 non-null   float64            \n",
      " 24  favorite           118751 non-null  int64              \n",
      " 25  comment            118327 non-null  float64            \n",
      " 26  trending_time      118751 non-null  datetime64[ns, UTC]\n",
      "dtypes: bool(2), datetime64[ns, UTC](2), float64(6), int64(2), object(15)\n",
      "memory usage: 22.9+ MB\n"
     ]
    }
   ],
   "source": [
    "trending.info()"
   ]
  },
  {
   "cell_type": "code",
   "execution_count": 13,
   "metadata": {
    "colab": {
     "base_uri": "https://localhost:8080/",
     "height": 130
    },
    "id": "i3zmrZ2u_ipI",
    "outputId": "8e5e501e-75e1-4462-e70f-2dff473e20d3"
   },
   "outputs": [
    {
     "name": "stdout",
     "output_type": "stream",
     "text": [
      "num_videos = 63718\n"
     ]
    }
   ],
   "source": [
    "num_videos = filtered_trending.shape[0]\n",
    "print(f\"{num_videos = }\")"
   ]
  },
  {
   "cell_type": "code",
   "execution_count": 14,
   "metadata": {
    "colab": {
     "base_uri": "https://localhost:8080/",
     "height": 183
    },
    "id": "TKCPLphh_wUc",
    "outputId": "c4bb13ef-5397-4054-e959-48bd708d007b"
   },
   "outputs": [
    {
     "name": "stdout",
     "output_type": "stream",
     "text": [
      "<class 'pandas.core.frame.DataFrame'>\n",
      "Int64Index: 63718 entries, 21322 to 118750\n",
      "Data columns (total 27 columns):\n",
      " #   Column             Non-Null Count  Dtype              \n",
      "---  ------             --------------  -----              \n",
      " 0   video_id           31918 non-null  object             \n",
      " 1   publish_time       63718 non-null  datetime64[ns, UTC]\n",
      " 2   channel_id         63718 non-null  object             \n",
      " 3   title              63718 non-null  object             \n",
      " 4   description        61486 non-null  object             \n",
      " 5   thumbnail_url      31918 non-null  object             \n",
      " 6   thumbnail_width    31918 non-null  float64            \n",
      " 7   thumbnail_height   31918 non-null  float64            \n",
      " 8   channel_name       63718 non-null  object             \n",
      " 9   tags               55466 non-null  object             \n",
      " 10  category_id        63718 non-null  int64              \n",
      " 11  live_status        63718 non-null  object             \n",
      " 12  local_title        63718 non-null  object             \n",
      " 13  local_description  61486 non-null  object             \n",
      " 14  duration           63718 non-null  object             \n",
      " 15  dimension          63718 non-null  object             \n",
      " 16  definition         63718 non-null  object             \n",
      " 17  caption            63718 non-null  bool               \n",
      " 18  license_status     63718 non-null  bool               \n",
      " 19  allowed_region     2038 non-null   object             \n",
      " 20  blocked_region     2399 non-null   object             \n",
      " 21  view               63718 non-null  float64            \n",
      " 22  like               63239 non-null  float64            \n",
      " 23  dislike            32612 non-null  float64            \n",
      " 24  favorite           63718 non-null  int64              \n",
      " 25  comment            63547 non-null  float64            \n",
      " 26  trending_time      63718 non-null  datetime64[ns, UTC]\n",
      "dtypes: bool(2), datetime64[ns, UTC](2), float64(6), int64(2), object(15)\n",
      "memory usage: 12.8+ MB\n"
     ]
    }
   ],
   "source": [
    "# distribusi missing value\n",
    "filtered_trending.info()"
   ]
  },
  {
   "cell_type": "code",
   "execution_count": 15,
   "metadata": {
    "colab": {
     "base_uri": "https://localhost:8080/",
     "height": 200
    },
    "id": "6-oIF7Nb_ylJ",
    "outputId": "7c0076cb-f540-4325-ce5b-fe99dc1305f2"
   },
   "outputs": [],
   "source": [
    "# delete video dengan description kosong\n",
    "\n",
    "filtered_trending.dropna(subset=[\"description\"], inplace=True)"
   ]
  },
  {
   "cell_type": "code",
   "execution_count": 16,
   "metadata": {
    "id": "5XhVGsGD_1fK"
   },
   "outputs": [
    {
     "name": "stdout",
     "output_type": "stream",
     "text": [
      "Number of videos in trending per day: [195 196 197 198 194 193 192 191 190 188 187 185 189 186 184 183 132 182\n",
      " 181 179 176 172 155 144 149 148 141 140 131 129 145 167 163 157 156 175\n",
      " 169 199 200]\n"
     ]
    }
   ],
   "source": [
    "trending_by_date = filtered_trending.groupby(\n",
    "    filtered_trending.trending_time.dt.date\n",
    ")\n",
    "num_trending_per_day = trending_by_date.trending_time.count()\n",
    "print(\"Number of videos in trending per day:\", num_trending_per_day.unique())\n"
   ]
  },
  {
   "cell_type": "code",
   "execution_count": 17,
   "metadata": {
    "id": "ah_wUXAe_7Ek"
   },
   "outputs": [
    {
     "data": {
      "text/html": [
       "<div>\n",
       "<style scoped>\n",
       "    .dataframe tbody tr th:only-of-type {\n",
       "        vertical-align: middle;\n",
       "    }\n",
       "\n",
       "    .dataframe tbody tr th {\n",
       "        vertical-align: top;\n",
       "    }\n",
       "\n",
       "    .dataframe thead th {\n",
       "        text-align: right;\n",
       "    }\n",
       "</style>\n",
       "<table border=\"1\" class=\"dataframe\">\n",
       "  <thead>\n",
       "    <tr style=\"text-align: right;\">\n",
       "      <th></th>\n",
       "      <th>title</th>\n",
       "      <th>trending_duration</th>\n",
       "      <th>trending_start_date</th>\n",
       "      <th>trending_last_date</th>\n",
       "    </tr>\n",
       "  </thead>\n",
       "  <tbody>\n",
       "    <tr>\n",
       "      <th>0</th>\n",
       "      <td>JEJE PENGHUNI STASIUN DUKUH ATAS, PERNAH CABUT...</td>\n",
       "      <td>37</td>\n",
       "      <td>2022-07-02 06:01:31.621150+00:00</td>\n",
       "      <td>2022-08-07 06:01:00.607537+00:00</td>\n",
       "    </tr>\n",
       "    <tr>\n",
       "      <th>1</th>\n",
       "      <td>Toleransi antar tetangga di Korea🇰🇷.. 🤦🏻‍♂️</td>\n",
       "      <td>37</td>\n",
       "      <td>2022-07-02 06:01:31.621606+00:00</td>\n",
       "      <td>2022-08-07 06:01:00.607651+00:00</td>\n",
       "    </tr>\n",
       "    <tr>\n",
       "      <th>2</th>\n",
       "      <td>NEGO 1 GEROBAK SHAWARMA VIRAL DI TIKTOK, SAMPE...</td>\n",
       "      <td>36</td>\n",
       "      <td>2022-07-08 06:01:39.900318+00:00</td>\n",
       "      <td>2022-08-12 06:01:33.892049+00:00</td>\n",
       "    </tr>\n",
       "    <tr>\n",
       "      <th>3</th>\n",
       "      <td>Tantangin VYN Pake Franco, 1 Kali Kena Hook Da...</td>\n",
       "      <td>35</td>\n",
       "      <td>2022-07-01 06:01:38.284040+00:00</td>\n",
       "      <td>2022-08-04 06:02:04.519603+00:00</td>\n",
       "    </tr>\n",
       "    <tr>\n",
       "      <th>4</th>\n",
       "      <td>OPW ARES Sudah Tamat</td>\n",
       "      <td>35</td>\n",
       "      <td>2022-07-02 06:01:31.621296+00:00</td>\n",
       "      <td>2022-08-05 06:02:43.644196+00:00</td>\n",
       "    </tr>\n",
       "    <tr>\n",
       "      <th>5</th>\n",
       "      <td>SINGAPORE STREET FOOD #08</td>\n",
       "      <td>35</td>\n",
       "      <td>2022-07-02 06:01:31.621620+00:00</td>\n",
       "      <td>2022-08-06 06:02:02.694750+00:00</td>\n",
       "    </tr>\n",
       "    <tr>\n",
       "      <th>6</th>\n",
       "      <td>Kok di Indonesia ada penjual Rawon yg lebih pi...</td>\n",
       "      <td>34</td>\n",
       "      <td>2022-07-02 06:01:31.621592+00:00</td>\n",
       "      <td>2022-08-04 06:02:04.519738+00:00</td>\n",
       "    </tr>\n",
       "    <tr>\n",
       "      <th>7</th>\n",
       "      <td>SELAMAT LEBARAN GUYS!!!</td>\n",
       "      <td>33</td>\n",
       "      <td>2022-07-11 06:00:59.413948+00:00</td>\n",
       "      <td>2022-08-12 06:01:33.891919+00:00</td>\n",
       "    </tr>\n",
       "    <tr>\n",
       "      <th>8</th>\n",
       "      <td>gak bisa bahasa enggres</td>\n",
       "      <td>32</td>\n",
       "      <td>2022-07-01 06:01:38.284013+00:00</td>\n",
       "      <td>2022-08-01 06:01:08.899895+00:00</td>\n",
       "    </tr>\n",
       "    <tr>\n",
       "      <th>9</th>\n",
       "      <td>HANYA FARIDA NURHAN, MUKBANG MIE GACOAN LEVEL ...</td>\n",
       "      <td>32</td>\n",
       "      <td>2022-07-11 06:00:59.414152+00:00</td>\n",
       "      <td>2022-08-11 06:01:46.801212+00:00</td>\n",
       "    </tr>\n",
       "  </tbody>\n",
       "</table>\n",
       "</div>"
      ],
      "text/plain": [
       "                                               title  trending_duration  \\\n",
       "0  JEJE PENGHUNI STASIUN DUKUH ATAS, PERNAH CABUT...                 37   \n",
       "1        Toleransi antar tetangga di Korea🇰🇷.. 🤦🏻‍♂️                 37   \n",
       "2  NEGO 1 GEROBAK SHAWARMA VIRAL DI TIKTOK, SAMPE...                 36   \n",
       "3  Tantangin VYN Pake Franco, 1 Kali Kena Hook Da...                 35   \n",
       "4                               OPW ARES Sudah Tamat                 35   \n",
       "5                          SINGAPORE STREET FOOD #08                 35   \n",
       "6  Kok di Indonesia ada penjual Rawon yg lebih pi...                 34   \n",
       "7                            SELAMAT LEBARAN GUYS!!!                 33   \n",
       "8                            gak bisa bahasa enggres                 32   \n",
       "9  HANYA FARIDA NURHAN, MUKBANG MIE GACOAN LEVEL ...                 32   \n",
       "\n",
       "               trending_start_date               trending_last_date  \n",
       "0 2022-07-02 06:01:31.621150+00:00 2022-08-07 06:01:00.607537+00:00  \n",
       "1 2022-07-02 06:01:31.621606+00:00 2022-08-07 06:01:00.607651+00:00  \n",
       "2 2022-07-08 06:01:39.900318+00:00 2022-08-12 06:01:33.892049+00:00  \n",
       "3 2022-07-01 06:01:38.284040+00:00 2022-08-04 06:02:04.519603+00:00  \n",
       "4 2022-07-02 06:01:31.621296+00:00 2022-08-05 06:02:43.644196+00:00  \n",
       "5 2022-07-02 06:01:31.621620+00:00 2022-08-06 06:02:02.694750+00:00  \n",
       "6 2022-07-02 06:01:31.621592+00:00 2022-08-04 06:02:04.519738+00:00  \n",
       "7 2022-07-11 06:00:59.413948+00:00 2022-08-12 06:01:33.891919+00:00  \n",
       "8 2022-07-01 06:01:38.284013+00:00 2022-08-01 06:01:08.899895+00:00  \n",
       "9 2022-07-11 06:00:59.414152+00:00 2022-08-11 06:01:46.801212+00:00  "
      ]
     },
     "execution_count": 17,
     "metadata": {},
     "output_type": "execute_result"
    }
   ],
   "source": [
    "trending_duration = filtered_trending.groupby(\"title\").agg(\n",
    "    trending_duration=pd.NamedAgg(column=\"trending_time\", aggfunc=\"count\"),\n",
    "    trending_start_date=pd.NamedAgg(column=\"trending_time\", aggfunc=\"min\"),\n",
    "    trending_last_date=pd.NamedAgg(column=\"trending_time\", aggfunc=\"max\")\n",
    ").sort_values(\"trending_duration\", ascending=False).reset_index()\n",
    "\n",
    "trending_duration.head(10)"
   ]
  },
  {
   "cell_type": "code",
   "execution_count": 18,
   "metadata": {
    "id": "4PhXgJq5Bd16"
   },
   "outputs": [
    {
     "data": {
      "image/png": "[encoded data removed]",
      "text/plain": [
       "<Figure size 1080x432 with 1 Axes>"
      ]
     },
     "metadata": {},
     "output_type": "display_data"
    }
   ],
   "source": [
    "#visualisasi data trending dengan chart bar\n",
    "\n",
    "plt.figure(figsize=(15, 6))\n",
    "plt.bar(\n",
    "    trending_duration.title[:10].apply(lambda title: \"/n\".join(wrap(title, width=10))),\n",
    "    trending_duration.trending_duration[:10]\n",
    ")\n",
    "plt.title(\"Longest Duration of Videos included in Youtube Trending Video\", loc=\"left\")\n",
    "plt.xlabel(\"Video Title\")\n",
    "plt.ylabel(\"Trending Duration (in days)\")\n",
    "plt.grid(False)\n",
    "plt.show()"
   ]
  },
  {
   "cell_type": "code",
   "execution_count": 19,
   "metadata": {
    "id": "-tGWJxWDCVnW"
   },
   "outputs": [
    {
     "data": {
      "text/html": [
       "<div>\n",
       "<style scoped>\n",
       "    .dataframe tbody tr th:only-of-type {\n",
       "        vertical-align: middle;\n",
       "    }\n",
       "\n",
       "    .dataframe tbody tr th {\n",
       "        vertical-align: top;\n",
       "    }\n",
       "\n",
       "    .dataframe thead tr th {\n",
       "        text-align: left;\n",
       "    }\n",
       "\n",
       "    .dataframe thead tr:last-of-type th {\n",
       "        text-align: right;\n",
       "    }\n",
       "</style>\n",
       "<table border=\"1\" class=\"dataframe\">\n",
       "  <thead>\n",
       "    <tr>\n",
       "      <th></th>\n",
       "      <th colspan=\"4\" halign=\"left\">view</th>\n",
       "      <th colspan=\"4\" halign=\"left\">like</th>\n",
       "      <th colspan=\"4\" halign=\"left\">dislike</th>\n",
       "    </tr>\n",
       "    <tr>\n",
       "      <th></th>\n",
       "      <th>min</th>\n",
       "      <th>max</th>\n",
       "      <th>mean</th>\n",
       "      <th>sum</th>\n",
       "      <th>min</th>\n",
       "      <th>max</th>\n",
       "      <th>mean</th>\n",
       "      <th>sum</th>\n",
       "      <th>min</th>\n",
       "      <th>max</th>\n",
       "      <th>mean</th>\n",
       "      <th>sum</th>\n",
       "    </tr>\n",
       "    <tr>\n",
       "      <th>title</th>\n",
       "      <th></th>\n",
       "      <th></th>\n",
       "      <th></th>\n",
       "      <th></th>\n",
       "      <th></th>\n",
       "      <th></th>\n",
       "      <th></th>\n",
       "      <th></th>\n",
       "      <th></th>\n",
       "      <th></th>\n",
       "      <th></th>\n",
       "      <th></th>\n",
       "    </tr>\n",
       "  </thead>\n",
       "  <tbody>\n",
       "    <tr>\n",
       "      <th>\"Awalnya Diserang Bertubi tubi\" Lihatlah Bagaimana Cara Taisei Hancurkan MENTAL Persib Bandung</th>\n",
       "      <td>101823.0</td>\n",
       "      <td>121044.0</td>\n",
       "      <td>1.114335e+05</td>\n",
       "      <td>222867.0</td>\n",
       "      <td>1336.0</td>\n",
       "      <td>1456.0</td>\n",
       "      <td>1396.000000</td>\n",
       "      <td>2792.0</td>\n",
       "      <td>40.0</td>\n",
       "      <td>46.0</td>\n",
       "      <td>43.000000</td>\n",
       "      <td>86.0</td>\n",
       "    </tr>\n",
       "    <tr>\n",
       "      <th>\"BABY R\" BIKIN GEMES !!! RAFATHAR CEMBURU, SEMUA KELUARGA REBUTAN GENDONG...</th>\n",
       "      <td>2280620.0</td>\n",
       "      <td>2637486.0</td>\n",
       "      <td>2.459053e+06</td>\n",
       "      <td>4918106.0</td>\n",
       "      <td>93348.0</td>\n",
       "      <td>101207.0</td>\n",
       "      <td>97277.500000</td>\n",
       "      <td>194555.0</td>\n",
       "      <td>1197.0</td>\n",
       "      <td>1286.0</td>\n",
       "      <td>1241.500000</td>\n",
       "      <td>2483.0</td>\n",
       "    </tr>\n",
       "    <tr>\n",
       "      <th>\"Emosi Rico Simanjutak\" Saat Taisei Marukawa Berhasil Obrak Abrik Pertahanan Persija</th>\n",
       "      <td>72434.0</td>\n",
       "      <td>116310.0</td>\n",
       "      <td>9.390625e+04</td>\n",
       "      <td>375625.0</td>\n",
       "      <td>990.0</td>\n",
       "      <td>1432.0</td>\n",
       "      <td>1228.500000</td>\n",
       "      <td>4914.0</td>\n",
       "      <td>40.0</td>\n",
       "      <td>61.0</td>\n",
       "      <td>47.750000</td>\n",
       "      <td>191.0</td>\n",
       "    </tr>\n",
       "    <tr>\n",
       "      <th>\"Grebek rumah harris vriza, dan percintaannya dengan R*cis”</th>\n",
       "      <td>68879.0</td>\n",
       "      <td>163773.0</td>\n",
       "      <td>1.267565e+05</td>\n",
       "      <td>760539.0</td>\n",
       "      <td>5529.0</td>\n",
       "      <td>8714.0</td>\n",
       "      <td>7486.833333</td>\n",
       "      <td>44921.0</td>\n",
       "      <td>46.0</td>\n",
       "      <td>74.0</td>\n",
       "      <td>63.500000</td>\n",
       "      <td>381.0</td>\n",
       "    </tr>\n",
       "    <tr>\n",
       "      <th>\"Hellevator\" Band Cover By Xdinary Heroes (원곡 : Stray Kids)</th>\n",
       "      <td>393043.0</td>\n",
       "      <td>1348612.0</td>\n",
       "      <td>1.126182e+06</td>\n",
       "      <td>14640369.0</td>\n",
       "      <td>127824.0</td>\n",
       "      <td>262846.0</td>\n",
       "      <td>237112.769231</td>\n",
       "      <td>3082466.0</td>\n",
       "      <td>NaN</td>\n",
       "      <td>NaN</td>\n",
       "      <td>NaN</td>\n",
       "      <td>0.0</td>\n",
       "    </tr>\n",
       "    <tr>\n",
       "      <th>...</th>\n",
       "      <td>...</td>\n",
       "      <td>...</td>\n",
       "      <td>...</td>\n",
       "      <td>...</td>\n",
       "      <td>...</td>\n",
       "      <td>...</td>\n",
       "      <td>...</td>\n",
       "      <td>...</td>\n",
       "      <td>...</td>\n",
       "      <td>...</td>\n",
       "      <td>...</td>\n",
       "      <td>...</td>\n",
       "    </tr>\n",
       "    <tr>\n",
       "      <th>🥘Yuk! Kita coba in! Let’s eat | WayV’s ONE-DAY TRIP IN JAKARTA EP.1</th>\n",
       "      <td>148668.0</td>\n",
       "      <td>680210.0</td>\n",
       "      <td>5.519997e+05</td>\n",
       "      <td>8831995.0</td>\n",
       "      <td>39847.0</td>\n",
       "      <td>101922.0</td>\n",
       "      <td>87227.125000</td>\n",
       "      <td>1395634.0</td>\n",
       "      <td>NaN</td>\n",
       "      <td>NaN</td>\n",
       "      <td>NaN</td>\n",
       "      <td>0.0</td>\n",
       "    </tr>\n",
       "    <tr>\n",
       "      <th>🥰 New Gadgets &amp; Versatile Utensils For Home # 266🏠Appliances, Make Up, Smart Inventions スマートアプライアン</th>\n",
       "      <td>330156.0</td>\n",
       "      <td>7334655.0</td>\n",
       "      <td>3.414214e+06</td>\n",
       "      <td>34142143.0</td>\n",
       "      <td>2822.0</td>\n",
       "      <td>58066.0</td>\n",
       "      <td>28320.700000</td>\n",
       "      <td>283207.0</td>\n",
       "      <td>283.0</td>\n",
       "      <td>7540.0</td>\n",
       "      <td>3517.500000</td>\n",
       "      <td>35175.0</td>\n",
       "    </tr>\n",
       "    <tr>\n",
       "      <th>🥰 New Gadgets &amp; Versatile Utensils For Home # 303🏠Appliances, Make Up, Smart Inventions スマートアプライアン</th>\n",
       "      <td>278942.0</td>\n",
       "      <td>1212522.0</td>\n",
       "      <td>7.948737e+05</td>\n",
       "      <td>5564116.0</td>\n",
       "      <td>2790.0</td>\n",
       "      <td>10212.0</td>\n",
       "      <td>6897.571429</td>\n",
       "      <td>48283.0</td>\n",
       "      <td>335.0</td>\n",
       "      <td>1335.0</td>\n",
       "      <td>878.000000</td>\n",
       "      <td>6146.0</td>\n",
       "    </tr>\n",
       "    <tr>\n",
       "      <th>🥰 New Gadgets &amp; Versatile Utensils For Home # 309🏠Appliances, Make Up, Smart Inventions スマートアプライアン</th>\n",
       "      <td>320084.0</td>\n",
       "      <td>1097903.0</td>\n",
       "      <td>7.562497e+05</td>\n",
       "      <td>4537498.0</td>\n",
       "      <td>3025.0</td>\n",
       "      <td>8759.0</td>\n",
       "      <td>6112.333333</td>\n",
       "      <td>36674.0</td>\n",
       "      <td>434.0</td>\n",
       "      <td>1115.0</td>\n",
       "      <td>806.500000</td>\n",
       "      <td>4839.0</td>\n",
       "    </tr>\n",
       "    <tr>\n",
       "      <th>🩸괴담회에 어서오세요🩸: 첫 번째 이야기 | WELCOME TO NCT’S HORROR NIGHTS</th>\n",
       "      <td>1423178.0</td>\n",
       "      <td>2966798.0</td>\n",
       "      <td>2.629831e+06</td>\n",
       "      <td>36817634.0</td>\n",
       "      <td>316849.0</td>\n",
       "      <td>457809.0</td>\n",
       "      <td>429081.142857</td>\n",
       "      <td>6007136.0</td>\n",
       "      <td>479.0</td>\n",
       "      <td>1420.0</td>\n",
       "      <td>1238.357143</td>\n",
       "      <td>17337.0</td>\n",
       "    </tr>\n",
       "  </tbody>\n",
       "</table>\n",
       "<p>10046 rows × 12 columns</p>\n",
       "</div>"
      ],
      "text/plain": [
       "                                                         view             \\\n",
       "                                                          min        max   \n",
       "title                                                                      \n",
       "\"Awalnya Diserang Bertubi tubi\" Lihatlah Bagaim...   101823.0   121044.0   \n",
       "\"BABY R\" BIKIN GEMES !!! RAFATHAR CEMBURU, SEMU...  2280620.0  2637486.0   \n",
       "\"Emosi Rico Simanjutak\" Saat Taisei Marukawa Be...    72434.0   116310.0   \n",
       "\"Grebek rumah harris vriza, dan percintaannya d...    68879.0   163773.0   \n",
       "\"Hellevator\" Band Cover By Xdinary Heroes (원곡 :...   393043.0  1348612.0   \n",
       "...                                                       ...        ...   \n",
       "🥘Yuk! Kita coba in! Let’s eat | WayV’s ONE-DAY ...   148668.0   680210.0   \n",
       "🥰 New Gadgets & Versatile Utensils For Home # 2...   330156.0  7334655.0   \n",
       "🥰 New Gadgets & Versatile Utensils For Home # 3...   278942.0  1212522.0   \n",
       "🥰 New Gadgets & Versatile Utensils For Home # 3...   320084.0  1097903.0   \n",
       "🩸괴담회에 어서오세요🩸: 첫 번째 이야기 | WELCOME TO NCT’S HORRO...  1423178.0  2966798.0   \n",
       "\n",
       "                                                                              \\\n",
       "                                                            mean         sum   \n",
       "title                                                                          \n",
       "\"Awalnya Diserang Bertubi tubi\" Lihatlah Bagaim...  1.114335e+05    222867.0   \n",
       "\"BABY R\" BIKIN GEMES !!! RAFATHAR CEMBURU, SEMU...  2.459053e+06   4918106.0   \n",
       "\"Emosi Rico Simanjutak\" Saat Taisei Marukawa Be...  9.390625e+04    375625.0   \n",
       "\"Grebek rumah harris vriza, dan percintaannya d...  1.267565e+05    760539.0   \n",
       "\"Hellevator\" Band Cover By Xdinary Heroes (원곡 :...  1.126182e+06  14640369.0   \n",
       "...                                                          ...         ...   \n",
       "🥘Yuk! Kita coba in! Let’s eat | WayV’s ONE-DAY ...  5.519997e+05   8831995.0   \n",
       "🥰 New Gadgets & Versatile Utensils For Home # 2...  3.414214e+06  34142143.0   \n",
       "🥰 New Gadgets & Versatile Utensils For Home # 3...  7.948737e+05   5564116.0   \n",
       "🥰 New Gadgets & Versatile Utensils For Home # 3...  7.562497e+05   4537498.0   \n",
       "🩸괴담회에 어서오세요🩸: 첫 번째 이야기 | WELCOME TO NCT’S HORRO...  2.629831e+06  36817634.0   \n",
       "\n",
       "                                                        like            \\\n",
       "                                                         min       max   \n",
       "title                                                                    \n",
       "\"Awalnya Diserang Bertubi tubi\" Lihatlah Bagaim...    1336.0    1456.0   \n",
       "\"BABY R\" BIKIN GEMES !!! RAFATHAR CEMBURU, SEMU...   93348.0  101207.0   \n",
       "\"Emosi Rico Simanjutak\" Saat Taisei Marukawa Be...     990.0    1432.0   \n",
       "\"Grebek rumah harris vriza, dan percintaannya d...    5529.0    8714.0   \n",
       "\"Hellevator\" Band Cover By Xdinary Heroes (원곡 :...  127824.0  262846.0   \n",
       "...                                                      ...       ...   \n",
       "🥘Yuk! Kita coba in! Let’s eat | WayV’s ONE-DAY ...   39847.0  101922.0   \n",
       "🥰 New Gadgets & Versatile Utensils For Home # 2...    2822.0   58066.0   \n",
       "🥰 New Gadgets & Versatile Utensils For Home # 3...    2790.0   10212.0   \n",
       "🥰 New Gadgets & Versatile Utensils For Home # 3...    3025.0    8759.0   \n",
       "🩸괴담회에 어서오세요🩸: 첫 번째 이야기 | WELCOME TO NCT’S HORRO...  316849.0  457809.0   \n",
       "\n",
       "                                                                              \\\n",
       "                                                             mean        sum   \n",
       "title                                                                          \n",
       "\"Awalnya Diserang Bertubi tubi\" Lihatlah Bagaim...    1396.000000     2792.0   \n",
       "\"BABY R\" BIKIN GEMES !!! RAFATHAR CEMBURU, SEMU...   97277.500000   194555.0   \n",
       "\"Emosi Rico Simanjutak\" Saat Taisei Marukawa Be...    1228.500000     4914.0   \n",
       "\"Grebek rumah harris vriza, dan percintaannya d...    7486.833333    44921.0   \n",
       "\"Hellevator\" Band Cover By Xdinary Heroes (원곡 :...  237112.769231  3082466.0   \n",
       "...                                                           ...        ...   \n",
       "🥘Yuk! Kita coba in! Let’s eat | WayV’s ONE-DAY ...   87227.125000  1395634.0   \n",
       "🥰 New Gadgets & Versatile Utensils For Home # 2...   28320.700000   283207.0   \n",
       "🥰 New Gadgets & Versatile Utensils For Home # 3...    6897.571429    48283.0   \n",
       "🥰 New Gadgets & Versatile Utensils For Home # 3...    6112.333333    36674.0   \n",
       "🩸괴담회에 어서오세요🩸: 첫 번째 이야기 | WELCOME TO NCT’S HORRO...  429081.142857  6007136.0   \n",
       "\n",
       "                                                   dislike          \\\n",
       "                                                       min     max   \n",
       "title                                                                \n",
       "\"Awalnya Diserang Bertubi tubi\" Lihatlah Bagaim...    40.0    46.0   \n",
       "\"BABY R\" BIKIN GEMES !!! RAFATHAR CEMBURU, SEMU...  1197.0  1286.0   \n",
       "\"Emosi Rico Simanjutak\" Saat Taisei Marukawa Be...    40.0    61.0   \n",
       "\"Grebek rumah harris vriza, dan percintaannya d...    46.0    74.0   \n",
       "\"Hellevator\" Band Cover By Xdinary Heroes (원곡 :...     NaN     NaN   \n",
       "...                                                    ...     ...   \n",
       "🥘Yuk! Kita coba in! Let’s eat | WayV’s ONE-DAY ...     NaN     NaN   \n",
       "🥰 New Gadgets & Versatile Utensils For Home # 2...   283.0  7540.0   \n",
       "🥰 New Gadgets & Versatile Utensils For Home # 3...   335.0  1335.0   \n",
       "🥰 New Gadgets & Versatile Utensils For Home # 3...   434.0  1115.0   \n",
       "🩸괴담회에 어서오세요🩸: 첫 번째 이야기 | WELCOME TO NCT’S HORRO...   479.0  1420.0   \n",
       "\n",
       "                                                                          \n",
       "                                                           mean      sum  \n",
       "title                                                                     \n",
       "\"Awalnya Diserang Bertubi tubi\" Lihatlah Bagaim...    43.000000     86.0  \n",
       "\"BABY R\" BIKIN GEMES !!! RAFATHAR CEMBURU, SEMU...  1241.500000   2483.0  \n",
       "\"Emosi Rico Simanjutak\" Saat Taisei Marukawa Be...    47.750000    191.0  \n",
       "\"Grebek rumah harris vriza, dan percintaannya d...    63.500000    381.0  \n",
       "\"Hellevator\" Band Cover By Xdinary Heroes (원곡 :...          NaN      0.0  \n",
       "...                                                         ...      ...  \n",
       "🥘Yuk! Kita coba in! Let’s eat | WayV’s ONE-DAY ...          NaN      0.0  \n",
       "🥰 New Gadgets & Versatile Utensils For Home # 2...  3517.500000  35175.0  \n",
       "🥰 New Gadgets & Versatile Utensils For Home # 3...   878.000000   6146.0  \n",
       "🥰 New Gadgets & Versatile Utensils For Home # 3...   806.500000   4839.0  \n",
       "🩸괴담회에 어서오세요🩸: 첫 번째 이야기 | WELCOME TO NCT’S HORRO...  1238.357143  17337.0  \n",
       "\n",
       "[10046 rows x 12 columns]"
      ]
     },
     "execution_count": 19,
     "metadata": {},
     "output_type": "execute_result"
    }
   ],
   "source": [
    "trending_by_title = filtered_trending.groupby(\"title\")\n",
    "trending_rewind = trending_by_title[[\"view\", \"like\", \"dislike\"]].agg([\"min\", \"max\", \"mean\", \"sum\"])\n",
    "trending_rewind"
   ]
  },
  {
   "cell_type": "code",
   "execution_count": 20,
   "metadata": {
    "id": "I7pogGE7C3HP"
   },
   "outputs": [
    {
     "data": {
      "image/png": "[encoded data removed]",
      "text/plain": [
       "<Figure size 1080x432 with 1 Axes>"
      ]
     },
     "metadata": {},
     "output_type": "display_data"
    }
   ],
   "source": [
    "# visualsasi trending video teratas masing-masing\n",
    "\n",
    "top_10_liked = trending_rewind[\"like\"].sort_values(\"max\", ascending=False).iloc[:10]\n",
    "\n",
    "plt.figure(figsize=(15, 6))\n",
    "plt.bar(\n",
    "    top_10_liked.index.to_series().apply(lambda title: \"\\n\".join(wrap(title, width=10))),\n",
    "    top_10_liked[\"max\"],\n",
    "    label=\"last like\"\n",
    ")\n",
    "\n",
    "plt.bar(\n",
    "    top_10_liked.index.to_series().apply(lambda title: \"\\n\".join(wrap(title, width=10))),\n",
    "    top_10_liked[\"min\"],\n",
    "    label=\"start like\"\n",
    ")\n",
    "plt.title(\"Most videos in trending list improves drastically in terms of likes\", loc=\"left\", y=1.1)\n",
    "plt.xlabel(\"Number of Like\")\n",
    "plt.ylabel(\"Video Title\")\n",
    "plt.legend()\n",
    "plt.grid(False)\n",
    "plt.show()"
   ]
  },
  {
   "cell_type": "code",
   "execution_count": 21,
   "metadata": {
    "id": "ZoAv3zD7TCUn"
   },
   "outputs": [
    {
     "data": {
      "image/png": "[encoded data removed]",
      "text/plain": [
       "<Figure size 1080x432 with 1 Axes>"
      ]
     },
     "metadata": {},
     "output_type": "display_data"
    }
   ],
   "source": [
    "top_10_viewed = trending_rewind[\"view\"].sort_values(\"max\", ascending=False).iloc[:10]\n",
    "\n",
    "plt.figure(figsize=(15, 6))\n",
    "plt.bar(\n",
    "    top_10_viewed.index.to_series().apply(lambda title: \"\\n\".join(wrap(title, width=10))),\n",
    "    top_10_viewed[\"max\"],\n",
    "    label=\"last views\"\n",
    ")\n",
    "\n",
    "plt.bar(\n",
    "    top_10_viewed.index.to_series().apply(lambda title: \"\\n\".join(wrap(title, width=10))),\n",
    "    top_10_viewed[\"min\"],\n",
    "    label=\"start views\"\n",
    ")\n",
    "plt.title(\"Most videos in trending list improves drastically in terms of views, similar to likes\", loc=\"left\", y=1.1)\n",
    "plt.xlabel(\"Number of Views\")\n",
    "plt.ylabel(\"Video Title\")\n",
    "plt.legend()\n",
    "plt.grid(False)\n",
    "plt.show()"
   ]
  },
  {
   "cell_type": "code",
   "execution_count": 22,
   "metadata": {
    "id": "TIJfUY4mT1YI"
   },
   "outputs": [
    {
     "data": {
      "image/png": "[encoded data removed]",
      "text/plain": [
       "<Figure size 1080x432 with 1 Axes>"
      ]
     },
     "metadata": {},
     "output_type": "display_data"
    }
   ],
   "source": [
    "top_10_disliked = trending_rewind[\"dislike\"].sort_values(\"max\", ascending=False).iloc[:10]\n",
    "\n",
    "plt.figure(figsize=(15, 6))\n",
    "plt.bar(\n",
    "    top_10_disliked.index.to_series().apply(lambda title: \"\\n\".join(wrap(title, width=10))),\n",
    "    top_10_disliked[\"max\"],\n",
    "    label=\"last dislike\"\n",
    ")\n",
    "\n",
    "plt.bar(\n",
    "    top_10_disliked.index.to_series().apply(lambda title: \"\\n\".join(wrap(title, width=10))),\n",
    "    top_10_disliked[\"min\"],\n",
    "    label=\"start dislike\"\n",
    ")\n",
    "plt.title(\"Most diliked videos in trending list are shorts and gain more dislikes\", loc=\"left\", y=1.1)\n",
    "plt.xlabel(\"Number of Views\")\n",
    "plt.ylabel(\"Video Title\")\n",
    "plt.legend()\n",
    "plt.grid(False)\n",
    "plt.show()"
   ]
  },
  {
   "cell_type": "code",
   "execution_count": 23,
   "metadata": {
    "id": "h6i18FRSUcul"
   },
   "outputs": [
    {
     "data": {
      "text/html": [
       "<div>\n",
       "<style scoped>\n",
       "    .dataframe tbody tr th:only-of-type {\n",
       "        vertical-align: middle;\n",
       "    }\n",
       "\n",
       "    .dataframe tbody tr th {\n",
       "        vertical-align: top;\n",
       "    }\n",
       "\n",
       "    .dataframe thead th {\n",
       "        text-align: right;\n",
       "    }\n",
       "</style>\n",
       "<table border=\"1\" class=\"dataframe\">\n",
       "  <thead>\n",
       "    <tr style=\"text-align: right;\">\n",
       "      <th></th>\n",
       "      <th>title</th>\n",
       "      <th>description</th>\n",
       "    </tr>\n",
       "  </thead>\n",
       "  <tbody>\n",
       "    <tr>\n",
       "      <th>50234</th>\n",
       "      <td>MAN CITY 3-0 EVERTON | PREMIER LEAGUE HIGHLIGHTS</td>\n",
       "      <td>Everton fell to defeat at Manchester City in a...</td>\n",
       "    </tr>\n",
       "    <tr>\n",
       "      <th>22694</th>\n",
       "      <td>Idgitaf - Berlagak Bahagia (Official Lyric Video)</td>\n",
       "      <td>Berlagak Bahagia (Official Lyric Video)\\nStrea...</td>\n",
       "    </tr>\n",
       "    <tr>\n",
       "      <th>93064</th>\n",
       "      <td>Seharian ngerasain kerjaan jadi SALES HP!</td>\n",
       "      <td>Boleh hape murah kaka...\\n\\nBarang bekas revie...</td>\n",
       "    </tr>\n",
       "    <tr>\n",
       "      <th>47387</th>\n",
       "      <td>UPDATE TERBARU VERSI 1.038.85!! MOTOR BARU LAN...</td>\n",
       "      <td>Hello guys..kita lanjut lagi main Sakura Schoo...</td>\n",
       "    </tr>\n",
       "    <tr>\n",
       "      <th>37865</th>\n",
       "      <td>Persaingan Pedagang Bakso – tebar tanah kubura...</td>\n",
       "      <td>Join this channel to get access to perks:\\nhtt...</td>\n",
       "    </tr>\n",
       "    <tr>\n",
       "      <th>103946</th>\n",
       "      <td>Melly Goeslaw, Lesti, Nagita Slavina, Celine E...</td>\n",
       "      <td>RUMAH KITA - MELLY GOESLAW, NAGITA SLAVINA, LE...</td>\n",
       "    </tr>\n",
       "    <tr>\n",
       "      <th>53471</th>\n",
       "      <td>KISAH HARU RUMINI, Meninggal Berpelukan Bersam...</td>\n",
       "      <td>SURYA.co.id, LUMAJANG - Korban meninggal letus...</td>\n",
       "    </tr>\n",
       "    <tr>\n",
       "      <th>103941</th>\n",
       "      <td>EPIC Leon Edwards' coaches inspire him to incr...</td>\n",
       "      <td>Leon Edwards did the unthinkable by defeating ...</td>\n",
       "    </tr>\n",
       "    <tr>\n",
       "      <th>42589</th>\n",
       "      <td>TANTANGAN MENGHIAS KEIK || Putar Roda Misterin...</td>\n",
       "      <td>Kalau kita membayangkan keik, kita pasti ngeba...</td>\n",
       "    </tr>\n",
       "    <tr>\n",
       "      <th>107739</th>\n",
       "      <td>Teaser | Percy Jackson and the Olympians | Dis...</td>\n",
       "      <td>For more updates, subscribe to Disney, Pixar, ...</td>\n",
       "    </tr>\n",
       "  </tbody>\n",
       "</table>\n",
       "</div>"
      ],
      "text/plain": [
       "                                                    title  \\\n",
       "50234    MAN CITY 3-0 EVERTON | PREMIER LEAGUE HIGHLIGHTS   \n",
       "22694   Idgitaf - Berlagak Bahagia (Official Lyric Video)   \n",
       "93064           Seharian ngerasain kerjaan jadi SALES HP!   \n",
       "47387   UPDATE TERBARU VERSI 1.038.85!! MOTOR BARU LAN...   \n",
       "37865   Persaingan Pedagang Bakso – tebar tanah kubura...   \n",
       "103946  Melly Goeslaw, Lesti, Nagita Slavina, Celine E...   \n",
       "53471   KISAH HARU RUMINI, Meninggal Berpelukan Bersam...   \n",
       "103941  EPIC Leon Edwards' coaches inspire him to incr...   \n",
       "42589   TANTANGAN MENGHIAS KEIK || Putar Roda Misterin...   \n",
       "107739  Teaser | Percy Jackson and the Olympians | Dis...   \n",
       "\n",
       "                                              description  \n",
       "50234   Everton fell to defeat at Manchester City in a...  \n",
       "22694   Berlagak Bahagia (Official Lyric Video)\\nStrea...  \n",
       "93064   Boleh hape murah kaka...\\n\\nBarang bekas revie...  \n",
       "47387   Hello guys..kita lanjut lagi main Sakura Schoo...  \n",
       "37865   Join this channel to get access to perks:\\nhtt...  \n",
       "103946  RUMAH KITA - MELLY GOESLAW, NAGITA SLAVINA, LE...  \n",
       "53471   SURYA.co.id, LUMAJANG - Korban meninggal letus...  \n",
       "103941  Leon Edwards did the unthinkable by defeating ...  \n",
       "42589   Kalau kita membayangkan keik, kita pasti ngeba...  \n",
       "107739  For more updates, subscribe to Disney, Pixar, ...  "
      ]
     },
     "execution_count": 23,
     "metadata": {},
     "output_type": "execute_result"
    }
   ],
   "source": [
    "# sebagai contoh, perhatikan sampel judul dan deskripsi video berikut\n",
    "sample = filtered_trending.sample(10, random_state=11)\n",
    "sample[[\"title\", \"description\"]]"
   ]
  },
  {
   "cell_type": "code",
   "execution_count": 24,
   "metadata": {
    "id": "zGyroiuKU55L"
   },
   "outputs": [],
   "source": [
    "# merubah title dan deskripsi video menjadi lowercase\n",
    "\n",
    "sample[\"title_lang\"] = sample.title.apply(lambda title: langdetect.detect(title.lower()))\n",
    "sample[\"desc_lang\"] = sample.description.apply(lambda desc: langdetect.detect(desc.lower()))"
   ]
  },
  {
   "cell_type": "code",
   "execution_count": 25,
   "metadata": {
    "id": "rGTOO0R-VcBU"
   },
   "outputs": [
    {
     "data": {
      "text/html": [
       "<div>\n",
       "<style scoped>\n",
       "    .dataframe tbody tr th:only-of-type {\n",
       "        vertical-align: middle;\n",
       "    }\n",
       "\n",
       "    .dataframe tbody tr th {\n",
       "        vertical-align: top;\n",
       "    }\n",
       "\n",
       "    .dataframe thead th {\n",
       "        text-align: right;\n",
       "    }\n",
       "</style>\n",
       "<table border=\"1\" class=\"dataframe\">\n",
       "  <thead>\n",
       "    <tr style=\"text-align: right;\">\n",
       "      <th></th>\n",
       "      <th>title</th>\n",
       "      <th>title_lang</th>\n",
       "      <th>description</th>\n",
       "      <th>desc_lang</th>\n",
       "    </tr>\n",
       "  </thead>\n",
       "  <tbody>\n",
       "    <tr>\n",
       "      <th>50234</th>\n",
       "      <td>MAN CITY 3-0 EVERTON | PREMIER LEAGUE HIGHLIGHTS</td>\n",
       "      <td>en</td>\n",
       "      <td>Everton fell to defeat at Manchester City in a difficult afternoon at Etihad Stadium. Raheem Ste...</td>\n",
       "      <td>en</td>\n",
       "    </tr>\n",
       "    <tr>\n",
       "      <th>22694</th>\n",
       "      <td>Idgitaf - Berlagak Bahagia (Official Lyric Video)</td>\n",
       "      <td>en</td>\n",
       "      <td>Berlagak Bahagia (Official Lyric Video)\\nStream \"Berlagak Bahagia\" in your favorite platform: ht...</td>\n",
       "      <td>en</td>\n",
       "    </tr>\n",
       "    <tr>\n",
       "      <th>93064</th>\n",
       "      <td>Seharian ngerasain kerjaan jadi SALES HP!</td>\n",
       "      <td>id</td>\n",
       "      <td>Boleh hape murah kaka...\\n\\nBarang bekas review biasanya saya jual disini: https://invol.co/cl75...</td>\n",
       "      <td>id</td>\n",
       "    </tr>\n",
       "    <tr>\n",
       "      <th>47387</th>\n",
       "      <td>UPDATE TERBARU VERSI 1.038.85!! MOTOR BARU LANGSUNG BUAT BALAPAN!! SAKURA SCHOOL SIMULATOR-PART 494</td>\n",
       "      <td>id</td>\n",
       "      <td>Hello guys..kita lanjut lagi main Sakura School  Part 494 yaa. Kali ini Sakurani Review UPDATE T...</td>\n",
       "      <td>id</td>\n",
       "    </tr>\n",
       "    <tr>\n",
       "      <th>37865</th>\n",
       "      <td>Persaingan Pedagang Bakso – tebar tanah kuburan agar bangkrut  #HORORMISTERI | Kartun hantu pocong</td>\n",
       "      <td>id</td>\n",
       "      <td>Join this channel to get access to perks:\\nhttps://www.youtube.com/channel/UC7GWXKxiy9_AU9TytEh0...</td>\n",
       "      <td>id</td>\n",
       "    </tr>\n",
       "    <tr>\n",
       "      <th>103946</th>\n",
       "      <td>Melly Goeslaw, Lesti, Nagita Slavina, Celine Evangelista - Rumah Kita | Official Music Video</td>\n",
       "      <td>it</td>\n",
       "      <td>RUMAH KITA - MELLY GOESLAW, NAGITA SLAVINA, LESTI, CELINE EVANGELISTA\\n#RumahKita #PulihLebihCep...</td>\n",
       "      <td>id</td>\n",
       "    </tr>\n",
       "    <tr>\n",
       "      <th>53471</th>\n",
       "      <td>KISAH HARU RUMINI, Meninggal Berpelukan Bersama Ibunya Digulung Wedhus Gembel Semeru</td>\n",
       "      <td>id</td>\n",
       "      <td>SURYA.co.id, LUMAJANG - Korban meninggal letusan Semeru mulai ditemukan. Dua di antaranya adalah...</td>\n",
       "      <td>id</td>\n",
       "    </tr>\n",
       "    <tr>\n",
       "      <th>103941</th>\n",
       "      <td>EPIC Leon Edwards' coaches inspire him to incredible comeback win! | Usman v Edwards 2 | UFC 278</td>\n",
       "      <td>en</td>\n",
       "      <td>Leon Edwards did the unthinkable by defeating Kamaru Usman and becoming the UFC welterweight Cha...</td>\n",
       "      <td>en</td>\n",
       "    </tr>\n",
       "    <tr>\n",
       "      <th>42589</th>\n",
       "      <td>TANTANGAN MENGHIAS KEIK || Putar Roda Misterinya! 100 Lapis MAKANAN oleh 123 GO! CHALLENGE</td>\n",
       "      <td>id</td>\n",
       "      <td>Kalau kita membayangkan keik, kita pasti ngebayangin berlapis-lapis dengan cokelat manis, tabura...</td>\n",
       "      <td>id</td>\n",
       "    </tr>\n",
       "    <tr>\n",
       "      <th>107739</th>\n",
       "      <td>Teaser | Percy Jackson and the Olympians | Disney+</td>\n",
       "      <td>en</td>\n",
       "      <td>For more updates, subscribe to Disney, Pixar, Marvel, Star Wars, and National Geographic.\\n \\nDi...</td>\n",
       "      <td>en</td>\n",
       "    </tr>\n",
       "  </tbody>\n",
       "</table>\n",
       "</div>"
      ],
      "text/plain": [
       "                                                                                                      title  \\\n",
       "50234                                                      MAN CITY 3-0 EVERTON | PREMIER LEAGUE HIGHLIGHTS   \n",
       "22694                                                     Idgitaf - Berlagak Bahagia (Official Lyric Video)   \n",
       "93064                                                             Seharian ngerasain kerjaan jadi SALES HP!   \n",
       "47387   UPDATE TERBARU VERSI 1.038.85!! MOTOR BARU LANGSUNG BUAT BALAPAN!! SAKURA SCHOOL SIMULATOR-PART 494   \n",
       "37865    Persaingan Pedagang Bakso – tebar tanah kuburan agar bangkrut  #HORORMISTERI | Kartun hantu pocong   \n",
       "103946         Melly Goeslaw, Lesti, Nagita Slavina, Celine Evangelista - Rumah Kita | Official Music Video   \n",
       "53471                  KISAH HARU RUMINI, Meninggal Berpelukan Bersama Ibunya Digulung Wedhus Gembel Semeru   \n",
       "103941     EPIC Leon Edwards' coaches inspire him to incredible comeback win! | Usman v Edwards 2 | UFC 278   \n",
       "42589            TANTANGAN MENGHIAS KEIK || Putar Roda Misterinya! 100 Lapis MAKANAN oleh 123 GO! CHALLENGE   \n",
       "107739                                                   Teaser | Percy Jackson and the Olympians | Disney+   \n",
       "\n",
       "       title_lang  \\\n",
       "50234          en   \n",
       "22694          en   \n",
       "93064          id   \n",
       "47387          id   \n",
       "37865          id   \n",
       "103946         it   \n",
       "53471          id   \n",
       "103941         en   \n",
       "42589          id   \n",
       "107739         en   \n",
       "\n",
       "                                                                                                description  \\\n",
       "50234   Everton fell to defeat at Manchester City in a difficult afternoon at Etihad Stadium. Raheem Ste...   \n",
       "22694   Berlagak Bahagia (Official Lyric Video)\\nStream \"Berlagak Bahagia\" in your favorite platform: ht...   \n",
       "93064   Boleh hape murah kaka...\\n\\nBarang bekas review biasanya saya jual disini: https://invol.co/cl75...   \n",
       "47387   Hello guys..kita lanjut lagi main Sakura School  Part 494 yaa. Kali ini Sakurani Review UPDATE T...   \n",
       "37865   Join this channel to get access to perks:\\nhttps://www.youtube.com/channel/UC7GWXKxiy9_AU9TytEh0...   \n",
       "103946  RUMAH KITA - MELLY GOESLAW, NAGITA SLAVINA, LESTI, CELINE EVANGELISTA\\n#RumahKita #PulihLebihCep...   \n",
       "53471   SURYA.co.id, LUMAJANG - Korban meninggal letusan Semeru mulai ditemukan. Dua di antaranya adalah...   \n",
       "103941  Leon Edwards did the unthinkable by defeating Kamaru Usman and becoming the UFC welterweight Cha...   \n",
       "42589   Kalau kita membayangkan keik, kita pasti ngebayangin berlapis-lapis dengan cokelat manis, tabura...   \n",
       "107739  For more updates, subscribe to Disney, Pixar, Marvel, Star Wars, and National Geographic.\\n \\nDi...   \n",
       "\n",
       "       desc_lang  \n",
       "50234         en  \n",
       "22694         en  \n",
       "93064         id  \n",
       "47387         id  \n",
       "37865         id  \n",
       "103946        id  \n",
       "53471         id  \n",
       "103941        en  \n",
       "42589         id  \n",
       "107739        en  "
      ]
     },
     "metadata": {},
     "output_type": "display_data"
    }
   ],
   "source": [
    "with pd.option_context(\"display.max_colwidth\", 100):\n",
    "                       display(sample[[\"title\", \"title_lang\", \"description\", \"desc_lang\"]])"
   ]
  },
  {
   "cell_type": "code",
   "execution_count": 26,
   "metadata": {
    "id": "skHXO4cQW3mb"
   },
   "outputs": [],
   "source": [
    "# membuat fungsi yang mendeteksi bahasa dari teks\n",
    "\n",
    "def detect_language(text):\n",
    "  \"\"\"Detect language of the 'text'.\"\"\"\n",
    "  try:\n",
    "    lang = langdetect.detect(text)\n",
    "    return lang\n",
    "  except :\n",
    "    return"
   ]
  },
  {
   "cell_type": "code",
   "execution_count": null,
   "metadata": {
    "id": "Bm3QWPslXXuS"
   },
   "outputs": [],
   "source": [
    "filtered_trending[\"title_lang\"] = filtered_trending[\"title\"].apply(detect_language)\n",
    "filtered_trending[\"desc_lang\"] = filtered_trending[\"description\"].apply(detect_language)"
   ]
  },
  {
   "cell_type": "code",
   "execution_count": null,
   "metadata": {
    "id": "kbKqlA4SXsKo"
   },
   "outputs": [],
   "source": [
    "filtered_trending[[\"title\", \"title_lang\", \"description\", \"desc_lang\"]]"
   ]
  },
  {
   "cell_type": "code",
   "execution_count": null,
   "metadata": {
    "id": "Sgvt0n3DYGou"
   },
   "outputs": [],
   "source": [
    "indo_trending = filtered_trending.loc[\n",
    "    (filtered_trending.title_lang == \"id\") | (filtered_trending.desc_lang == \"id\")\n",
    "]\n",
    "\n",
    "with pd.option_context(\"display.max_columns\", None):\n",
    "  display(indo_trending.sample(10))"
   ]
  },
  {
   "cell_type": "markdown",
   "metadata": {
    "id": "6AFgjvjCYs9p"
   },
   "source": [
    "## Feature Extraction"
   ]
  },
  {
   "cell_type": "code",
   "execution_count": 32,
   "metadata": {
    "id": "lfrDDRPZYvOJ"
   },
   "outputs": [
    {
     "data": {
      "text/html": [
       "<div>\n",
       "<style scoped>\n",
       "    .dataframe tbody tr th:only-of-type {\n",
       "        vertical-align: middle;\n",
       "    }\n",
       "\n",
       "    .dataframe tbody tr th {\n",
       "        vertical-align: top;\n",
       "    }\n",
       "\n",
       "    .dataframe thead th {\n",
       "        text-align: right;\n",
       "    }\n",
       "</style>\n",
       "<table border=\"1\" class=\"dataframe\">\n",
       "  <thead>\n",
       "    <tr style=\"text-align: right;\">\n",
       "      <th></th>\n",
       "      <th>title</th>\n",
       "      <th>description</th>\n",
       "      <th>category_id</th>\n",
       "    </tr>\n",
       "  </thead>\n",
       "  <tbody>\n",
       "    <tr>\n",
       "      <th>0</th>\n",
       "      <td>Rizky Billar - Pemimpinmu | Official Music Video</td>\n",
       "      <td>Rizky Billar - Pemimpinmu | Official Music Vid...</td>\n",
       "      <td>10</td>\n",
       "    </tr>\n",
       "    <tr>\n",
       "      <th>1</th>\n",
       "      <td>Ini Pengakuan Pengemudi Pajero usai Rusak dan ...</td>\n",
       "      <td>Polisi menangkap pengemudi SUV yang merusak da...</td>\n",
       "      <td>25</td>\n",
       "    </tr>\n",
       "    <tr>\n",
       "      <th>2</th>\n",
       "      <td>Aksi Demo Tolak Kedatangan Jokowi di Kendari B...</td>\n",
       "      <td>Tanggal Tayang: 30/06/2021\\n\\nProgram berita h...</td>\n",
       "      <td>25</td>\n",
       "    </tr>\n",
       "    <tr>\n",
       "      <th>3</th>\n",
       "      <td>PERTAMA KALI LIAT SAPI SEGEDE GINI, DINAIKIN D...</td>\n",
       "      <td>Assalamualaikum gaeess..! sudah nonton video s...</td>\n",
       "      <td>15</td>\n",
       "    </tr>\n",
       "    <tr>\n",
       "      <th>4</th>\n",
       "      <td>PODKESMAS SAMPAI GA NYAMAN DIBAHAS DISINI - To...</td>\n",
       "      <td>Talk show malam yang akan memberikan informasi...</td>\n",
       "      <td>24</td>\n",
       "    </tr>\n",
       "    <tr>\n",
       "      <th>...</th>\n",
       "      <td>...</td>\n",
       "      <td>...</td>\n",
       "      <td>...</td>\n",
       "    </tr>\n",
       "    <tr>\n",
       "      <th>38017</th>\n",
       "      <td>Ariel NOAH x Enda Ungu - Yang Terdalam (Live a...</td>\n",
       "      <td>Ariel NOAH x Enda Ungu - Yang Terdalam\\n\\nOrig...</td>\n",
       "      <td>10</td>\n",
       "    </tr>\n",
       "    <tr>\n",
       "      <th>38018</th>\n",
       "      <td>Farel Prayoga Feat Dini Kurnia _CINTA TAK TERP...</td>\n",
       "      <td>Farel Prayoga Feat Dini Kurnia _CINTA TAK TERP...</td>\n",
       "      <td>10</td>\n",
       "    </tr>\n",
       "    <tr>\n",
       "      <th>38019</th>\n",
       "      <td>NASI GORENG BAKAR INI PINDAH SAMPAI 13 KALI KA...</td>\n",
       "      <td>HAHHH JUALAN NASI GORENG INI UDAH 13 KALI PIND...</td>\n",
       "      <td>22</td>\n",
       "    </tr>\n",
       "    <tr>\n",
       "      <th>38020</th>\n",
       "      <td>KENAL DEKAT DENGAN KELUARGA NATHALIE, PAPA SAY...</td>\n",
       "      <td>Hi, welcome to Nathalie Holscher Channel!\\n\\nF...</td>\n",
       "      <td>24</td>\n",
       "    </tr>\n",
       "    <tr>\n",
       "      <th>38021</th>\n",
       "      <td>PAPA SAYANG PDKT LEWAT FACEBOOK | NATHALIE DIA...</td>\n",
       "      <td>Hi, welcome to Nathalie Holscher Channel!\\n\\nF...</td>\n",
       "      <td>24</td>\n",
       "    </tr>\n",
       "  </tbody>\n",
       "</table>\n",
       "<p>38022 rows × 3 columns</p>\n",
       "</div>"
      ],
      "text/plain": [
       "                                                   title  \\\n",
       "0       Rizky Billar - Pemimpinmu | Official Music Video   \n",
       "1      Ini Pengakuan Pengemudi Pajero usai Rusak dan ...   \n",
       "2      Aksi Demo Tolak Kedatangan Jokowi di Kendari B...   \n",
       "3      PERTAMA KALI LIAT SAPI SEGEDE GINI, DINAIKIN D...   \n",
       "4      PODKESMAS SAMPAI GA NYAMAN DIBAHAS DISINI - To...   \n",
       "...                                                  ...   \n",
       "38017  Ariel NOAH x Enda Ungu - Yang Terdalam (Live a...   \n",
       "38018  Farel Prayoga Feat Dini Kurnia _CINTA TAK TERP...   \n",
       "38019  NASI GORENG BAKAR INI PINDAH SAMPAI 13 KALI KA...   \n",
       "38020  KENAL DEKAT DENGAN KELUARGA NATHALIE, PAPA SAY...   \n",
       "38021  PAPA SAYANG PDKT LEWAT FACEBOOK | NATHALIE DIA...   \n",
       "\n",
       "                                             description  category_id  \n",
       "0      Rizky Billar - Pemimpinmu | Official Music Vid...           10  \n",
       "1      Polisi menangkap pengemudi SUV yang merusak da...           25  \n",
       "2      Tanggal Tayang: 30/06/2021\\n\\nProgram berita h...           25  \n",
       "3      Assalamualaikum gaeess..! sudah nonton video s...           15  \n",
       "4      Talk show malam yang akan memberikan informasi...           24  \n",
       "...                                                  ...          ...  \n",
       "38017  Ariel NOAH x Enda Ungu - Yang Terdalam\\n\\nOrig...           10  \n",
       "38018  Farel Prayoga Feat Dini Kurnia _CINTA TAK TERP...           10  \n",
       "38019  HAHHH JUALAN NASI GORENG INI UDAH 13 KALI PIND...           22  \n",
       "38020  Hi, welcome to Nathalie Holscher Channel!\\n\\nF...           24  \n",
       "38021  Hi, welcome to Nathalie Holscher Channel!\\n\\nF...           24  \n",
       "\n",
       "[38022 rows x 3 columns]"
      ]
     },
     "execution_count": 32,
     "metadata": {},
     "output_type": "execute_result"
    }
   ],
   "source": [
    "data = indo_trending[[\"title\", \"description\", \"category_id\"]].reset_index(drop=True)\n",
    "data"
   ]
  },
  {
   "cell_type": "code",
   "execution_count": 33,
   "metadata": {
    "id": "-tGa_n6iYqrz"
   },
   "outputs": [],
   "source": [
    "# DUPLICATES\n",
    "data.drop_duplicates(subset=\"title\", inplace=True)"
   ]
  },
  {
   "cell_type": "code",
   "execution_count": 34,
   "metadata": {
    "id": "tTTEq9qsZJg0"
   },
   "outputs": [
    {
     "data": {
      "text/plain": [
       "(6163, 3)"
      ]
     },
     "execution_count": 34,
     "metadata": {},
     "output_type": "execute_result"
    }
   ],
   "source": [
    "data.reset_index(drop=True, inplace=True)\n",
    "data.shape"
   ]
  },
  {
   "cell_type": "code",
   "execution_count": 40,
   "metadata": {},
   "outputs": [
    {
     "name": "stdout",
     "output_type": "stream",
     "text": [
      "Requirement already satisfied: emoji in c:\\users\\user\\anaconda3\\anaconda\\lib\\site-packages (2.2.0)Note: you may need to restart the kernel to use updated packages.\n",
      "\n"
     ]
    }
   ],
   "source": [
    "pip install emoji"
   ]
  },
  {
   "cell_type": "code",
   "execution_count": null,
   "metadata": {},
   "outputs": [],
   "source": [
    "pip uninstall emoji"
   ]
  },
  {
   "cell_type": "code",
   "execution_count": null,
   "metadata": {
    "id": "1VvC8XzZZVBj"
   },
   "outputs": [],
   "source": [
    "# EMOJI\n",
    "\n",
    "list_emoji = [e for e in emoji.UNICODE_EMOJI.get(\"en\")]\n",
    "count = 0\n",
    "for em in list_emoji:\n",
    "    for title in data.title:\n",
    "        if em in title:\n",
    "            count += 1\n",
    "print(\"How many titles use emoji\", count)"
   ]
  },
  {
   "cell_type": "code",
   "execution_count": 46,
   "metadata": {
    "id": "pXToVauRZ75z"
   },
   "outputs": [],
   "source": [
    "def demojize(text):\n",
    "  for em in list_emoji:\n",
    "    if em in text:\n",
    "      em_text = emoji.demojize(em)\n",
    "      text = text.replace(em, \" \" + em_text + \" \")\n",
    "  return text"
   ]
  },
  {
   "cell_type": "code",
   "execution_count": 47,
   "metadata": {
    "id": "-NX9SjlkbErY"
   },
   "outputs": [
    {
     "ename": "NameError",
     "evalue": "name 'list_emoji' is not defined",
     "output_type": "error",
     "traceback": [
      "\u001b[1;31m---------------------------------------------------------------------------\u001b[0m",
      "\u001b[1;31mNameError\u001b[0m                                 Traceback (most recent call last)",
      "\u001b[1;32m<ipython-input-47-5de2a68b6175>\u001b[0m in \u001b[0;36m<module>\u001b[1;34m\u001b[0m\n\u001b[1;32m----> 1\u001b[1;33m \u001b[0mdata\u001b[0m\u001b[1;33m[\u001b[0m\u001b[1;34m\"title_emoji\"\u001b[0m\u001b[1;33m]\u001b[0m \u001b[1;33m=\u001b[0m \u001b[0mdata\u001b[0m\u001b[1;33m.\u001b[0m\u001b[0mtitle\u001b[0m\u001b[1;33m.\u001b[0m\u001b[0mapply\u001b[0m\u001b[1;33m(\u001b[0m\u001b[0mdemojize\u001b[0m\u001b[1;33m)\u001b[0m\u001b[1;33m\u001b[0m\u001b[1;33m\u001b[0m\u001b[0m\n\u001b[0m",
      "\u001b[1;32m~\\anaconda3\\ANACONDA\\lib\\site-packages\\pandas\\core\\series.py\u001b[0m in \u001b[0;36mapply\u001b[1;34m(self, func, convert_dtype, args, **kwds)\u001b[0m\n\u001b[0;32m   4136\u001b[0m             \u001b[1;32melse\u001b[0m\u001b[1;33m:\u001b[0m\u001b[1;33m\u001b[0m\u001b[1;33m\u001b[0m\u001b[0m\n\u001b[0;32m   4137\u001b[0m                 \u001b[0mvalues\u001b[0m \u001b[1;33m=\u001b[0m \u001b[0mself\u001b[0m\u001b[1;33m.\u001b[0m\u001b[0mastype\u001b[0m\u001b[1;33m(\u001b[0m\u001b[0mobject\u001b[0m\u001b[1;33m)\u001b[0m\u001b[1;33m.\u001b[0m\u001b[0m_values\u001b[0m\u001b[1;33m\u001b[0m\u001b[1;33m\u001b[0m\u001b[0m\n\u001b[1;32m-> 4138\u001b[1;33m                 \u001b[0mmapped\u001b[0m \u001b[1;33m=\u001b[0m \u001b[0mlib\u001b[0m\u001b[1;33m.\u001b[0m\u001b[0mmap_infer\u001b[0m\u001b[1;33m(\u001b[0m\u001b[0mvalues\u001b[0m\u001b[1;33m,\u001b[0m \u001b[0mf\u001b[0m\u001b[1;33m,\u001b[0m \u001b[0mconvert\u001b[0m\u001b[1;33m=\u001b[0m\u001b[0mconvert_dtype\u001b[0m\u001b[1;33m)\u001b[0m\u001b[1;33m\u001b[0m\u001b[1;33m\u001b[0m\u001b[0m\n\u001b[0m\u001b[0;32m   4139\u001b[0m \u001b[1;33m\u001b[0m\u001b[0m\n\u001b[0;32m   4140\u001b[0m         \u001b[1;32mif\u001b[0m \u001b[0mlen\u001b[0m\u001b[1;33m(\u001b[0m\u001b[0mmapped\u001b[0m\u001b[1;33m)\u001b[0m \u001b[1;32mand\u001b[0m \u001b[0misinstance\u001b[0m\u001b[1;33m(\u001b[0m\u001b[0mmapped\u001b[0m\u001b[1;33m[\u001b[0m\u001b[1;36m0\u001b[0m\u001b[1;33m]\u001b[0m\u001b[1;33m,\u001b[0m \u001b[0mSeries\u001b[0m\u001b[1;33m)\u001b[0m\u001b[1;33m:\u001b[0m\u001b[1;33m\u001b[0m\u001b[1;33m\u001b[0m\u001b[0m\n",
      "\u001b[1;32mpandas\\_libs\\lib.pyx\u001b[0m in \u001b[0;36mpandas._libs.lib.map_infer\u001b[1;34m()\u001b[0m\n",
      "\u001b[1;32m<ipython-input-46-a8b1fb18bac8>\u001b[0m in \u001b[0;36mdemojize\u001b[1;34m(text)\u001b[0m\n\u001b[0;32m      1\u001b[0m \u001b[1;32mdef\u001b[0m \u001b[0mdemojize\u001b[0m\u001b[1;33m(\u001b[0m\u001b[0mtext\u001b[0m\u001b[1;33m)\u001b[0m\u001b[1;33m:\u001b[0m\u001b[1;33m\u001b[0m\u001b[1;33m\u001b[0m\u001b[0m\n\u001b[1;32m----> 2\u001b[1;33m   \u001b[1;32mfor\u001b[0m \u001b[0mem\u001b[0m \u001b[1;32min\u001b[0m \u001b[0mlist_emoji\u001b[0m\u001b[1;33m:\u001b[0m\u001b[1;33m\u001b[0m\u001b[1;33m\u001b[0m\u001b[0m\n\u001b[0m\u001b[0;32m      3\u001b[0m     \u001b[1;32mif\u001b[0m \u001b[0mem\u001b[0m \u001b[1;32min\u001b[0m \u001b[0mtext\u001b[0m\u001b[1;33m:\u001b[0m\u001b[1;33m\u001b[0m\u001b[1;33m\u001b[0m\u001b[0m\n\u001b[0;32m      4\u001b[0m       \u001b[0mem_text\u001b[0m \u001b[1;33m=\u001b[0m \u001b[0memoji\u001b[0m\u001b[1;33m.\u001b[0m\u001b[0mdemojize\u001b[0m\u001b[1;33m(\u001b[0m\u001b[0mem\u001b[0m\u001b[1;33m)\u001b[0m\u001b[1;33m\u001b[0m\u001b[1;33m\u001b[0m\u001b[0m\n\u001b[0;32m      5\u001b[0m       \u001b[0mtext\u001b[0m \u001b[1;33m=\u001b[0m \u001b[0mtext\u001b[0m\u001b[1;33m.\u001b[0m\u001b[0mreplace\u001b[0m\u001b[1;33m(\u001b[0m\u001b[0mem\u001b[0m\u001b[1;33m,\u001b[0m \u001b[1;34m\" \"\u001b[0m \u001b[1;33m+\u001b[0m \u001b[0mem_text\u001b[0m \u001b[1;33m+\u001b[0m \u001b[1;34m\" \"\u001b[0m\u001b[1;33m)\u001b[0m\u001b[1;33m\u001b[0m\u001b[1;33m\u001b[0m\u001b[0m\n",
      "\u001b[1;31mNameError\u001b[0m: name 'list_emoji' is not defined"
     ]
    }
   ],
   "source": [
    "data[\"title_emoji\"] = data.title.apply(demojize)"
   ]
  },
  {
   "cell_type": "code",
   "execution_count": null,
   "metadata": {},
   "outputs": [],
   "source": []
  },
  {
   "cell_type": "code",
   "execution_count": null,
   "metadata": {
    "id": "VSsZ-0hzbIwl"
   },
   "outputs": [],
   "source": [
    "title_with_emoji_idx = [\n",
    "idx for idx in range(len(data.title))\n",
    "for em in list_emoji\n",
    "if em in data.loc[idx, \"title\"]"
   ]
  },
  {
   "cell_type": "code",
   "execution_count": null,
   "metadata": {},
   "outputs": [],
   "source": [
    "with pd.option_context(\"display.max_coldwidth\", 100):\n",
    "    display(data.loc(title_with_emoji_idx))"
   ]
  },
  {
   "cell_type": "code",
   "execution_count": null,
   "metadata": {},
   "outputs": [],
   "source": [
    "# delete kolom title\n",
    "\n",
    "data.drop(columns=\"tilte\", inplace=True)"
   ]
  },
  {
   "cell_type": "code",
   "execution_count": null,
   "metadata": {},
   "outputs": [],
   "source": [
    "desc_with_emoji_idx = [\n",
    "    idx for isx in range(len(data.decription))\n",
    "    for em in list_emoji\n",
    "    if em in dat.loc(idx, \"description\")\n",
    "]\n",
    "\n",
    "data[\"desc_emoji\"] = data.description.apply(demojize)\n",
    "\n",
    "with pd.option_context(\"display.max_coldwidth\", 100):\n",
    "    display(data.loc(desc_with_emoji_idx))"
   ]
  },
  {
   "cell_type": "code",
   "execution_count": null,
   "metadata": {},
   "outputs": [],
   "source": [
    "data.drop(columns=\"description\", inplace=True)"
   ]
  },
  {
   "cell_type": "code",
   "execution_count": null,
   "metadata": {},
   "outputs": [],
   "source": [
    "data[\"all_text\"] = data[\"title_emoji\"] + \" \" + data[\"desc_emoji\"]"
   ]
  },
  {
   "cell_type": "code",
   "execution_count": null,
   "metadata": {},
   "outputs": [],
   "source": [
    "# data split\n",
    "X_train, X_dev, y_train, y_dev = train_test_split(\n",
    "data[\"all_text\"], data[\"category_id\"],\n",
    "test_size=.2,\n",
    "stratify=data[\"category_id\"],\n",
    "random_state=11\n",
    ")\n",
    "training_size = X_train.shape[0]\n",
    "dev_size = X_dev.shape[0]\n",
    "print(f\"{training_size = }.. {dev_size = }\")\n",
    "# define vectorizer\n",
    "vectorizer = TfidfVectorizer(\n",
    "min_df=.015,\n",
    "max_df=.7,\n",
    "ngram_range=(1, 1),\n",
    ")\n",
    "# generate tf-idf matrix\n",
    "train_tfidf = vectorizer.fit_transform(X_train)\n",
    "dev_tfidf = vectorizer.transform(X_dev)\n",
    "print(\"Got train tf-idf with shape:\", train_tfidf.shape)\n",
    "print(\"Got dev tf-idf with shape:\", dev_tfidf.shape)\n",
    "\n",
    "# convert to dataframe\n",
    "train_tfidf = pd.DataFrame(train_tfidf.toarray(), columns=vectorizer.get_feature_names_out())\n",
    "dev_tfidf = pd.DataFrame(dev_tfidf.toarray(), columns=vectorizer.get_feature_names_out())"
   ]
  },
  {
   "cell_type": "code",
   "execution_count": null,
   "metadata": {},
   "outputs": [],
   "source": [
    "with pd.option_context(\"display.max_columns\", 100):\n",
    "    display(train_tfidf.sample(5))"
   ]
  },
  {
   "cell_type": "code",
   "execution_count": null,
   "metadata": {},
   "outputs": [],
   "source": [
    "dict_models = {\n",
    "\"logistic_regression\": LogisticRegression(),\n",
    "\"naive_bayes\": MultinomialNB(),\n",
    "\"svm\": LinearSVC(random_state=11),\n",
    "\"decision_tree\": DecisionTreeClassifier(random_state=11),\n",
    "\"random_forest\": RandomForestClassifier(random_state=11)\n",
    "}"
   ]
  },
  {
   "cell_type": "code",
   "execution_count": null,
   "metadata": {},
   "outputs": [],
   "source": [
    "for model in dict_models.values():\n",
    "    print(f\"-- {model.__class__.__name__} --\")\n",
    "    model.fit(train_tfidf, y_train)\n",
    "    y_pred = model.predict(dev_tfidf)\n",
    "    print(\"Reports on dev set:\", classification_report(y_dev,"
   ]
  },
  {
   "cell_type": "code",
   "execution_count": null,
   "metadata": {},
   "outputs": [],
   "source": [
    "svm_grid_search = GridSearchCV(\n",
    "dict_models[\"svm\"],\n",
    "{\"C\": (10, 1, .1, .05, .01)},\n",
    ")\n",
    "svm_grid_search.fit(train_tfidf, y_train)\n",
    "svm_pred_dev = svm_grid_search.predict(dev_tfidf)\n",
    "print(\"Reports on train set:\",\n",
    "classification_report(\n",
    "y_train,\n",
    "svm_grid_search.predict(train_tfidf)\n",
    "), sep=\"\\n\")\n",
    "print(\"Reports on dev set:\", classification_report(y_dev,"
   ]
  },
  {
   "cell_type": "code",
   "execution_count": null,
   "metadata": {},
   "outputs": [],
   "source": [
    "random_forest_grid_search = GridSearchCV(\n",
    "dict_models[\"random_forest\"],\n",
    "{\n",
    "\"n_estimators\": (10, 20, 25, 50, 75, 100, 125),\n",
    "\"max_depth\": (5, 10, 25, 50),\n",
    "}\n",
    ")\n",
    "random_forest_grid_search.fit(train_tfidf, y_train)\n",
    "random_forest_pred = random_forest_grid_search.predict(dev_tfidf)\n",
    "print(\"Reports on train set:\",\n",
    "classification_report(\n",
    "y_train,\n",
    "random_forest_grid_search.predict(train_tfidf)\n",
    "),\n",
    "sep=\"\\n\"\n",
    ")\n",
    "print(\"Reports on dev set:\", classification_report(y_dev,"
   ]
  },
  {
   "cell_type": "code",
   "execution_count": null,
   "metadata": {},
   "outputs": [],
   "source": [
    "random_forest_grid_search.best_params_"
   ]
  },
  {
   "cell_type": "code",
   "execution_count": null,
   "metadata": {},
   "outputs": [],
   "source": [
    "model = Pipeline([\n",
    "(\"vectorizer\", TfidfVectorizer(\n",
    "min_df=.015,\n",
    "max_df=.7,\n",
    "ngram_range=(1, 1),\n",
    ")),\n",
    "(\"model\", RandomForestClassifier(\n",
    "max_depth=50,\n",
    "n_estimators=75,\n",
    "random_state=11\n",
    "))\n",
    "])\n",
    "# training\n",
    "model.fit(X_train, y_train)\n",
    "pred = model.predict(X_dev)\n",
    "print(\"Reports on train set:\",\n",
    "classification_report(\n",
    "y_train,\n",
    "model.predict(X_train)\n",
    "),\n",
    "sep=\"\\n\"\n",
    ")\n",
    "print(\"Reports on dev set:\", classification_report(y_dev,"
   ]
  },
  {
   "cell_type": "code",
   "execution_count": null,
   "metadata": {},
   "outputs": [],
   "source": [
    "joblib.dump(model, \"D:/PTA 2016-2017/Modul/dataset/modelyt.joblib\")"
   ]
  },
  {
   "cell_type": "code",
   "execution_count": null,
   "metadata": {},
   "outputs": [],
   "source": [
    "model = joblib.load(\"D:/PTA 2016-2017/Modul/dataset/modelyt.joblib\")\n",
    "print(model.get_params())"
   ]
  }
 ],
 "metadata": {
  "colab": {
   "provenance": []
  },
  "kernelspec": {
   "display_name": "Python 3",
   "language": "python",
   "name": "python3"
  },
  "language_info": {
   "codemirror_mode": {
    "name": "ipython",
    "version": 3
   },
   "file_extension": ".py",
   "mimetype": "text/x-python",
   "name": "python",
   "nbconvert_exporter": "python",
   "pygments_lexer": "ipython3",
   "version": "3.8.8"
  }
 },
 "nbformat": 4,
 "nbformat_minor": 1
}
